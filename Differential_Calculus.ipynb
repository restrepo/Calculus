{
  "nbformat": 4,
  "nbformat_minor": 0,
  "metadata": {
    "colab": {
      "name": "Untitled",
      "provenance": [],
      "include_colab_link": true
    },
    "kernelspec": {
      "name": "python3",
      "display_name": "Python 3"
    }
  },
  "cells": [
    {
      "cell_type": "markdown",
      "metadata": {
        "id": "view-in-github",
        "colab_type": "text"
      },
      "source": [
        "<a href=\"https://colab.research.google.com/github/restrepo/calculus/blob/master/Differential_Calculus.ipynb\" target=\"_parent\"><img src=\"https://colab.research.google.com/assets/colab-badge.svg\" alt=\"Open In Colab\"/></a>"
      ]
    },
    {
      "cell_type": "code",
      "metadata": {
        "id": "OJ_y27Sx9HWO",
        "colab_type": "code",
        "outputId": "8fea42c7-47b0-42ad-c38c-ba004ed8e682",
        "colab": {
          "base_uri": "https://localhost:8080/",
          "height": 34
        }
      },
      "source": [
        "%pylab inline\n",
        "import numpy as np"
      ],
      "execution_count": 1,
      "outputs": [
        {
          "output_type": "stream",
          "text": [
            "Populating the interactive namespace from numpy and matplotlib\n"
          ],
          "name": "stdout"
        }
      ]
    },
    {
      "cell_type": "markdown",
      "metadata": {
        "id": "0u3GRgOmk9rq",
        "colab_type": "text"
      },
      "source": [
        "# Numerical derivative\n",
        "## straight line equations\n",
        "Consider the following straight line:\n",
        "$$ y=3x\\,, $$\n",
        "with two benchmark points $(x_1,y_1)=(1,3)$, $(x_2,y_2)=(3,9)$. \n",
        "\n",
        "From the general equation\n",
        "$$y=mx+b\\,,$$\n",
        "we can can calculate the _slope_ $m$ and the _intercept_ $b$ if we know two points. The _slope_ $m$ can be calculated as\n",
        "$$m=\\frac{y_2-y_1}{x_2-x_1}=\\frac{9-3}{3-1}=\\frac{6}{2}=3\\,,$$\n",
        "while the intercept $b$ is obtained from just one of the benchmark points from\n",
        "\\begin{align}\n",
        "b=y-mx\\,,\\qquad\\qquad (1)\n",
        "\\end{align}\n",
        "e.g,\n",
        "$$b=y_1-m x_1=3-3\\times 1=0$$\n",
        "\n"
      ]
    },
    {
      "cell_type": "markdown",
      "metadata": {
        "id": "OHv3uGWZbxiE",
        "colab_type": "text"
      },
      "source": [
        "## Passing one straight line trough a curve\n",
        "Consider fig. 1 below."
      ]
    },
    {
      "cell_type": "code",
      "metadata": {
        "id": "zmTK3c8_Lgrv",
        "colab_type": "code",
        "colab": {
          "base_uri": "https://localhost:8080/",
          "height": 317
        },
        "outputId": "7a2f64b1-109d-4b2d-e6a3-747cc0e28e47"
      },
      "source": [
        "x100=np.linspace(0,10,100)\n",
        "def f(x):\n",
        "    if isinstance(x,list):\n",
        "        x=np.array(x)\n",
        "    return -(x-4)**2+100\n",
        "plt.plot(x100,f(x100),'k-')\n",
        "xs=np.array([1,5])\n",
        "plt.plot(xs,f(xs),'y*',markersize=10)\n",
        "plt.plot(xs,f(xs),'k--',markersize=10)\n",
        "plt.title('Fig 1.')\n",
        "plt.ylabel('$f(x)$',size=15)\n",
        "plt.xlabel('$x$',size=15)\n",
        "plt.plot( xs,[f(xs[0]),f(xs[0])],'y:' )\n",
        "plt.plot( [xs[1],xs[1]],f(xs),'y:' )\n",
        "plt.text(2.5,88,r'$\\Delta x={}$'.format(xs[1]-xs[0]))\n",
        "plt.text(5.2,93,r'$\\Delta y={}$'.format( f(xs[1])-f(xs[0])))\n",
        "#plt.legend(loc='best')\n",
        "plt.plot()"
      ],
      "execution_count": 2,
      "outputs": [
        {
          "output_type": "execute_result",
          "data": {
            "text/plain": [
              "[]"
            ]
          },
          "metadata": {
            "tags": []
          },
          "execution_count": 2
        },
        {
          "output_type": "display_data",
          "data": {
            "image/png": "[encoded data removed]",
            "text/plain": [
              "<Figure size 432x288 with 1 Axes>"
            ]
          },
          "metadata": {
            "tags": []
          }
        }
      ]
    },
    {
      "cell_type": "markdown",
      "metadata": {
        "id": "YsESZGX-L1YW",
        "colab_type": "text"
      },
      "source": [
        "We want to define the _straigth line_ which passes for two points of some curve with some spacing $\\Delta x$. We need the set of $x$-points, with some spacing $\\Delta x$, the evaluation of some function $f(x)$ of those points, and the _slope_ of the straight line. The corresponding function, implementing eq.(1), is shown below "
      ]
    },
    {
      "cell_type": "code",
      "metadata": {
        "id": "3ChjWBq0PTIX",
        "colab_type": "code",
        "colab": {}
      },
      "source": [
        "def slope(x,y,m):\n",
        "    '''\n",
        "    Use the initial points `(x[0],y[0])` and the slope `m`\n",
        "    to define an straight line as function of `x`:\n",
        "      f(x)=mx+b\n",
        "    '''\n",
        "    x=np.asarray(x)\n",
        "    y=np.asarray(y)\n",
        "    b=y[0]-m*x[0]\n",
        "    return m*x+b"
      ],
      "execution_count": 0,
      "outputs": []
    },
    {
      "cell_type": "markdown",
      "metadata": {
        "id": "7EwjjBdFPxml",
        "colab_type": "text"
      },
      "source": [
        "As an example, let us use the two points with $\\Delta x=4$ in Fig. 1. To find $m$ we can use the previuos two starred points"
      ]
    },
    {
      "cell_type": "code",
      "metadata": {
        "id": "x3NWNut-QkeK",
        "colab_type": "code",
        "colab": {
          "base_uri": "https://localhost:8080/",
          "height": 34
        },
        "outputId": "d49a0d39-7140-43aa-ce84-d31e5abfbcb7"
      },
      "source": [
        "Δy=f(xs[1])-f(xs[0])\n",
        "Δx=xs[1]-xs[0]\n",
        "m=Δy/Δx\n",
        "m"
      ],
      "execution_count": 4,
      "outputs": [
        {
          "output_type": "execute_result",
          "data": {
            "text/plain": [
              "2.0"
            ]
          },
          "metadata": {
            "tags": []
          },
          "execution_count": 4
        }
      ]
    },
    {
      "cell_type": "markdown",
      "metadata": {
        "id": "uzD4-lGQZBOy",
        "colab_type": "text"
      },
      "source": [
        "By using the `slope` function we have"
      ]
    },
    {
      "cell_type": "code",
      "metadata": {
        "id": "tvjiAZt_ZGhN",
        "colab_type": "code",
        "colab": {
          "base_uri": "https://localhost:8080/",
          "height": 301
        },
        "outputId": "c002ddfe-a513-468b-826a-735e095ebc19"
      },
      "source": [
        "plt.plot(x100,f(x100),'k-')\n",
        "xs=np.array([1,5])\n",
        "plt.plot(xs,f(xs),'y*',markersize=10)\n",
        "x=np.linspace(xs[0],7)\n",
        "plt.plot(x,slope(x,f(x),m),'k--')\n",
        "plt.ylabel('$f(x)$',size=15)\n",
        "plt.xlabel('$x$',size=15)"
      ],
      "execution_count": 5,
      "outputs": [
        {
          "output_type": "execute_result",
          "data": {
            "text/plain": [
              "Text(0.5, 0, '$x$')"
            ]
          },
          "metadata": {
            "tags": []
          },
          "execution_count": 5
        },
        {
          "output_type": "display_data",
          "data": {
            "image/png": "[encoded data removed]",
            "text/plain": [
              "<Figure size 432x288 with 1 Axes>"
            ]
          },
          "metadata": {
            "tags": []
          }
        }
      ]
    },
    {
      "cell_type": "markdown",
      "metadata": {
        "id": "r3At1a7Mc6ES",
        "colab_type": "text"
      },
      "source": [
        "## Studying the changes along a curve\n",
        "Let us start with a curve that do not change, which is just one straight line. "
      ]
    },
    {
      "cell_type": "code",
      "metadata": {
        "id": "8EaaHifdlxnU",
        "colab_type": "code",
        "colab": {
          "base_uri": "https://localhost:8080/",
          "height": 284
        },
        "outputId": "9b47c45e-59f1-4fc9-f91e-27fb6845fe64"
      },
      "source": [
        "x=np.linspace(0,10,11)\n",
        "def f(x):\n",
        "    return 3*x\n",
        "\n",
        "plt.plot(x,f(x),'k-')\n",
        "plt.plot(1,f(1),'y*',markersize=10)\n",
        "plt.plot(3,f(3),'y*',markersize=10)\n",
        "plt.plot([1,f(1)],[3,f(1)],'k--')\n",
        "plt.plot([3,f(1)],[3,f(3)],'k--')\n",
        "plt.xlabel('$x$',size=15)\n",
        "plt.ylabel('$y$',size=15)\n",
        "plt.grid()"
      ],
      "execution_count": 6,
      "outputs": [
        {
          "output_type": "display_data",
          "data": {
            "image/png": "[encoded data removed]",
            "text/plain": [
              "<Figure size 432x288 with 1 Axes>"
            ]
          },
          "metadata": {
            "tags": []
          }
        }
      ]
    },
    {
      "cell_type": "markdown",
      "metadata": {
        "id": "jz0KUW0VlzvF",
        "colab_type": "text"
      },
      "source": [
        "The main property of the straight line is that the same _slope_ is constant for any pair of points on it. To illustrate this splicitly it is convenient to review the [slicing of a list in Python](https://railsware.com/blog/python-for-machine-learning-indexing-and-slicing-for-lists-tuples-strings-and-other-sequential-types/) [[Backup](https://web.archive.org/web/20190717104623/https://railsware.com/blog/python-for-machine-learning-indexing-and-slicing-for-lists-tuples-strings-and-other-sequential-types/)].\n",
        "\n",
        "Let an array like the previous one created with `numpy` for $N=10$ points"
      ]
    },
    {
      "cell_type": "code",
      "metadata": {
        "id": "7C3W1eGTt3TG",
        "colab_type": "code",
        "colab": {
          "base_uri": "https://localhost:8080/",
          "height": 34
        },
        "outputId": "1f6727f1-74fd-40c1-8794-21ab3637e970"
      },
      "source": [
        "x"
      ],
      "execution_count": 7,
      "outputs": [
        {
          "output_type": "execute_result",
          "data": {
            "text/plain": [
              "array([ 0.,  1.,  2.,  3.,  4.,  5.,  6.,  7.,  8.,  9., 10.])"
            ]
          },
          "metadata": {
            "tags": []
          },
          "execution_count": 7
        }
      ]
    },
    {
      "cell_type": "markdown",
      "metadata": {
        "id": "LEnIAKu5fTd_",
        "colab_type": "text"
      },
      "source": [
        "The sequence of intitial $N-1=9$ points, $x_i$, is defined as all the points except by the last one:"
      ]
    },
    {
      "cell_type": "code",
      "metadata": {
        "id": "z2KkYE24fj-n",
        "colab_type": "code",
        "colab": {
          "base_uri": "https://localhost:8080/",
          "height": 34
        },
        "outputId": "2eacdb3f-7655-4963-c8e5-d5c6f128f89d"
      },
      "source": [
        "x[:-1]"
      ],
      "execution_count": 8,
      "outputs": [
        {
          "output_type": "execute_result",
          "data": {
            "text/plain": [
              "array([0., 1., 2., 3., 4., 5., 6., 7., 8., 9.])"
            ]
          },
          "metadata": {
            "tags": []
          },
          "execution_count": 8
        }
      ]
    },
    {
      "cell_type": "markdown",
      "metadata": {
        "id": "7lK6-unXuoCq",
        "colab_type": "text"
      },
      "source": [
        "while the sequence of the final $N-1=9$ points, $x_{i+1}$, is defined as"
      ]
    },
    {
      "cell_type": "code",
      "metadata": {
        "id": "oOHclZQjuP4P",
        "colab_type": "code",
        "colab": {
          "base_uri": "https://localhost:8080/",
          "height": 34
        },
        "outputId": "d2be097e-d049-4108-fccd-d14702776acc"
      },
      "source": [
        "x[1:]"
      ],
      "execution_count": 9,
      "outputs": [
        {
          "output_type": "execute_result",
          "data": {
            "text/plain": [
              "array([ 1.,  2.,  3.,  4.,  5.,  6.,  7.,  8.,  9., 10.])"
            ]
          },
          "metadata": {
            "tags": []
          },
          "execution_count": 9
        }
      ]
    },
    {
      "cell_type": "markdown",
      "metadata": {
        "id": "L0pAiKfxu0hN",
        "colab_type": "text"
      },
      "source": [
        "we can define the sequence of the $N-1=9$ differences between the final and intial points in $x$ as"
      ]
    },
    {
      "cell_type": "code",
      "metadata": {
        "id": "XYVtdI-974e7",
        "colab_type": "code",
        "colab": {
          "base_uri": "https://localhost:8080/",
          "height": 34
        },
        "outputId": "e30dee1e-d27e-4e63-8920-5b78be5f6046"
      },
      "source": [
        "Δx=x[1:]-x[:-1]\n",
        "Δx"
      ],
      "execution_count": 10,
      "outputs": [
        {
          "output_type": "execute_result",
          "data": {
            "text/plain": [
              "array([1., 1., 1., 1., 1., 1., 1., 1., 1., 1.])"
            ]
          },
          "metadata": {
            "tags": []
          },
          "execution_count": 10
        }
      ]
    },
    {
      "cell_type": "markdown",
      "metadata": {
        "id": "C3AmT-0kgloA",
        "colab_type": "text"
      },
      "source": [
        "while the corresponding sequence of the $N-1=9$ differences between the final and intial points in $y$ is just"
      ]
    },
    {
      "cell_type": "code",
      "metadata": {
        "id": "Vljiee_k8LAV",
        "colab_type": "code",
        "colab": {
          "base_uri": "https://localhost:8080/",
          "height": 34
        },
        "outputId": "a54a244c-779c-4952-f545-6a63f0292794"
      },
      "source": [
        "Δy=f(x[1:])-f(x[:-1])\n",
        "Δy            "
      ],
      "execution_count": 11,
      "outputs": [
        {
          "output_type": "execute_result",
          "data": {
            "text/plain": [
              "array([3., 3., 3., 3., 3., 3., 3., 3., 3., 3.])"
            ]
          },
          "metadata": {
            "tags": []
          },
          "execution_count": 11
        }
      ]
    },
    {
      "cell_type": "markdown",
      "metadata": {
        "id": "gPfpAe46h4Un",
        "colab_type": "text"
      },
      "source": [
        "We can now check that the $N-1=9$ slopes are all the same"
      ]
    },
    {
      "cell_type": "code",
      "metadata": {
        "id": "TuwCPrJgvSAU",
        "colab_type": "code",
        "colab": {
          "base_uri": "https://localhost:8080/",
          "height": 34
        },
        "outputId": "8ead4d73-b8bd-4b52-8fe2-b21164caea70"
      },
      "source": [
        "m=Δy/Δx\n",
        "m"
      ],
      "execution_count": 12,
      "outputs": [
        {
          "output_type": "execute_result",
          "data": {
            "text/plain": [
              "array([3., 3., 3., 3., 3., 3., 3., 3., 3., 3.])"
            ]
          },
          "metadata": {
            "tags": []
          },
          "execution_count": 12
        }
      ]
    },
    {
      "cell_type": "markdown",
      "metadata": {
        "id": "A_-Q_pWAiNTh",
        "colab_type": "text"
      },
      "source": [
        "and we can rebuild the full function just by joining the $N-1=9$ straigth lines"
      ]
    },
    {
      "cell_type": "code",
      "metadata": {
        "id": "qW61YCGkiKQT",
        "colab_type": "code",
        "colab": {
          "base_uri": "https://localhost:8080/",
          "height": 284
        },
        "outputId": "5a0bbcef-3807-40e6-c266-518ae706fc1f"
      },
      "source": [
        "for i in range(Δx.size):\n",
        "    plt.plot(x[i:i+2],slope(x[i:i+2],f(x[i:i+2]),m[i]) )\n",
        "    \n",
        "plt.plot(x[:-1],f(x[:-1]),'k.')\n",
        "plt.xlabel('$x$',size=15)\n",
        "plt.ylabel('$y$',size=15)\n",
        "plt.grid()"
      ],
      "execution_count": 13,
      "outputs": [
        {
          "output_type": "display_data",
          "data": {
            "image/png": "[encoded data removed]",
            "text/plain": [
              "<Figure size 432x288 with 1 Axes>"
            ]
          },
          "metadata": {
            "tags": []
          }
        }
      ]
    },
    {
      "cell_type": "markdown",
      "metadata": {
        "id": "8_SSMuqZ1bxN",
        "colab_type": "text"
      },
      "source": [
        "Let us now to check the changes in the slope for the curve in Fig. 1 along $N=6$ points with same spacing $\\Delta x$"
      ]
    },
    {
      "cell_type": "code",
      "metadata": {
        "id": "OgC__I-qm5Es",
        "colab_type": "code",
        "colab": {
          "base_uri": "https://localhost:8080/",
          "height": 284
        },
        "outputId": "521f564f-bd0d-4672-b71e-3c28f964bedd"
      },
      "source": [
        "N=6\n",
        "x100=np.linspace(-0.5,10,100)\n",
        "x=np.linspace(0,10,6)\n",
        "def f(x):\n",
        "    if isinstance(x,list):\n",
        "        x=np.array(x)\n",
        "    return -(x-4)**2+100\n",
        "plt.plot(x100,f(x100),'k-')\n",
        "plt.plot(x,f(x),'y*',markersize=10)\n",
        "plt.ylabel('$f(x)$',size=15)\n",
        "plt.xlabel('$x$',size=15)\n",
        "plt.grid()"
      ],
      "execution_count": 33,
      "outputs": [
        {
          "output_type": "display_data",
          "data": {
            "image/png": "[encoded data removed]",
            "text/plain": [
              "<Figure size 432x288 with 1 Axes>"
            ]
          },
          "metadata": {
            "tags": []
          }
        }
      ]
    },
    {
      "cell_type": "markdown",
      "metadata": {
        "id": "GcyBYGpWnzhs",
        "colab_type": "text"
      },
      "source": [
        "Now the slope is different for each one of the $N-1=5$ straight lines"
      ]
    },
    {
      "cell_type": "code",
      "metadata": {
        "colab_type": "code",
        "outputId": "7a756c63-a0c8-401f-e023-dc265d777c9b",
        "id": "zRkdbv1EoVLc",
        "colab": {
          "base_uri": "https://localhost:8080/",
          "height": 34
        }
      },
      "source": [
        "x=np.linspace(0,10,N)\n",
        "Δx=x[1:]-x[:-1]\n",
        "Δy=f(x[1:])-f(x[:-1])\n",
        "m=Δy/Δx\n",
        "m"
      ],
      "execution_count": 34,
      "outputs": [
        {
          "output_type": "execute_result",
          "data": {
            "text/plain": [
              "array([  6.,   2.,  -2.,  -6., -10.])"
            ]
          },
          "metadata": {
            "tags": []
          },
          "execution_count": 34
        }
      ]
    },
    {
      "cell_type": "markdown",
      "metadata": {
        "id": "jOeWwjrXoJzT",
        "colab_type": "text"
      },
      "source": [
        "Moreover, the $N-1=5$ straigth lines, shown in colors below, are a good approach to the real curve shown as the dashed cyan curve below. "
      ]
    },
    {
      "cell_type": "code",
      "metadata": {
        "id": "gnwfdEglrQ1M",
        "colab_type": "code",
        "colab": {
          "base_uri": "https://localhost:8080/",
          "height": 284
        },
        "outputId": "4dd058c0-82d5-4394-9302-e465cb25f941"
      },
      "source": [
        "for i in range(Δx.size):\n",
        "    plt.plot(x[i:i+2],slope(x[i:i+2],f(x[i:i+2]),m[i]) )\n",
        "    \n",
        "plt.plot(x[:-1],f(x[:-1]),'k.')\n",
        "plt.plot(x100,f(x100),'c--')\n",
        "plt.ylabel('$f(x)$',size=15)\n",
        "plt.xlabel('$x$',size=15)\n",
        "plt.grid()"
      ],
      "execution_count": 36,
      "outputs": [
        {
          "output_type": "display_data",
          "data": {
            "image/png": "[encoded data removed]",
            "text/plain": [
              "<Figure size 432x288 with 1 Axes>"
            ]
          },
          "metadata": {
            "tags": []
          }
        }
      ]
    },
    {
      "cell_type": "markdown",
      "metadata": {
        "id": "1H992EH3qHVR",
        "colab_type": "text"
      },
      "source": [
        "Note in fact that the dashed curve is really formed by 99 straight lines which are not longer visible by the naked eye. By zoomin around $x=4$"
      ]
    },
    {
      "cell_type": "code",
      "metadata": {
        "id": "oYZ68mBwuM6d",
        "colab_type": "code",
        "colab": {
          "base_uri": "https://localhost:8080/",
          "height": 312
        },
        "outputId": "6b3c90b2-9a76-4e19-8623-44b793d53a32"
      },
      "source": [
        "plt.plot(x100,f(x100),'c--')\n",
        "plt.plot(x100,f(x100),'k.')\n",
        "plt.grid()\n",
        "plt.xlim(3.8,4.2)\n",
        "plt.ylim(99.95,100.02)\n",
        "plt.ylabel('$f(x)$',size=15)\n",
        "plt.xlabel('$x$',size=15)"
      ],
      "execution_count": 37,
      "outputs": [
        {
          "output_type": "execute_result",
          "data": {
            "text/plain": [
              "Text(0.5, 0, '$x$')"
            ]
          },
          "metadata": {
            "tags": []
          },
          "execution_count": 37
        },
        {
          "output_type": "display_data",
          "data": {
            "image/png": "[encoded data removed]",
            "text/plain": [
              "<Figure size 432x288 with 1 Axes>"
            ]
          },
          "metadata": {
            "tags": []
          }
        }
      ]
    },
    {
      "cell_type": "code",
      "metadata": {
        "id": "_kcmEXS2pecy",
        "colab_type": "code",
        "colab": {}
      },
      "source": [
        ""
      ],
      "execution_count": 0,
      "outputs": []
    }
  ]
}