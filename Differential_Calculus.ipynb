{
  "nbformat": 4,
  "nbformat_minor": 0,
  "metadata": {
    "colab": {
      "name": "Untitled",
      "provenance": [],
      "include_colab_link": true
    },
    "kernelspec": {
      "name": "python3",
      "display_name": "Python 3"
    }
  },
  "cells": [
    {
      "cell_type": "markdown",
      "metadata": {
        "id": "view-in-github",
        "colab_type": "text"
      },
      "source": [
        "<a href=\"https://colab.research.google.com/github/restrepo/calculus/blob/master/Differential_Calculus.ipynb\" target=\"_parent\"><img src=\"https://colab.research.google.com/assets/colab-badge.svg\" alt=\"Open In Colab\"/></a>"
      ]
    },
    {
      "cell_type": "code",
      "metadata": {
        "id": "OJ_y27Sx9HWO",
        "colab_type": "code",
        "outputId": "b001342e-71dd-417d-cff5-d632e16b1fde",
        "colab": {
          "base_uri": "https://localhost:8080/",
          "height": 34
        }
      },
      "source": [
        "%pylab inline\n",
        "import numpy as np"
      ],
      "execution_count": 2,
      "outputs": [
        {
          "output_type": "stream",
          "text": [
            "Populating the interactive namespace from numpy and matplotlib\n"
          ],
          "name": "stdout"
        }
      ]
    },
    {
      "cell_type": "markdown",
      "metadata": {
        "id": "0u3GRgOmk9rq",
        "colab_type": "text"
      },
      "source": [
        "It is rather straighforward to define a sright line. For example:\n",
        "$$ y=3x $$\n",
        "with two benchmark points $(x_1,y_1)=(1,3)$, $(x_2,y_2)=(3,9)$. \n",
        "\n",
        "From the general equation\n",
        "$$y=mx+b\\,,$$\n",
        "In this case $m=3$ and $b=0$.\n",
        "\n",
        "The _slope_ $m$ can be calculated as\n",
        "$$m=\\frac{y_2-y_1}{x_2-x_1}=\\frac{9-3}{3-1}=\\frac{6}{2}=3$$"
      ]
    },
    {
      "cell_type": "code",
      "metadata": {
        "id": "l3rZ9rsSvqic",
        "colab_type": "code",
        "colab": {
          "base_uri": "https://localhost:8080/",
          "height": 34
        },
        "outputId": "e4f96d67-0634-4652-fde0-c4536bcf3da8"
      },
      "source": [
        "x=np.linspace(0,10,11)\n",
        "def y(x):\n",
        "    return 3*x\n",
        "y(x)"
      ],
      "execution_count": 37,
      "outputs": [
        {
          "output_type": "execute_result",
          "data": {
            "text/plain": [
              "array([ 0.,  3.,  6.,  9., 12., 15., 18., 21., 24., 27., 30.])"
            ]
          },
          "metadata": {
            "tags": []
          },
          "execution_count": 37
        }
      ]
    },
    {
      "cell_type": "code",
      "metadata": {
        "id": "8EaaHifdlxnU",
        "colab_type": "code",
        "colab": {
          "base_uri": "https://localhost:8080/",
          "height": 284
        },
        "outputId": "9986ed24-400c-4e11-eeb6-6d197498142f"
      },
      "source": [
        "x=np.linspace(0,10,11)\n",
        "def y(x):\n",
        "    return 3*x\n",
        "plt.plot(x,y(x),'k-')\n",
        "plt.plot(1,y(1),'y*',markersize=10)\n",
        "plt.plot(3,y(3),'y*',markersize=10)\n",
        "plt.plot([1,y(1)],[3,y(1)],'k--')\n",
        "plt.plot([3,y(1)],[3,y(3)],'k--')\n",
        "plt.xlabel('$x$',size=15)\n",
        "plt.ylabel('$y$',size=15)\n",
        "plt.grid()"
      ],
      "execution_count": 41,
      "outputs": [
        {
          "output_type": "display_data",
          "data": {
            "image/png": "[encoded data removed]",
            "text/plain": [
              "<Figure size 432x288 with 1 Axes>"
            ]
          },
          "metadata": {
            "tags": []
          }
        }
      ]
    },
    {
      "cell_type": "markdown",
      "metadata": {
        "id": "jz0KUW0VlzvF",
        "colab_type": "text"
      },
      "source": [
        "The main property of the straight line is that the same _slope_ can be obtained from any pair of points on it. To show we can defined the incresead linspace for"
      ]
    },
    {
      "cell_type": "code",
      "metadata": {
        "id": "7C3W1eGTt3TG",
        "colab_type": "code",
        "colab": {
          "base_uri": "https://localhost:8080/",
          "height": 34
        },
        "outputId": "6b6ffce9-f32e-4c4b-a1ae-8638da148c65"
      },
      "source": [
        "x"
      ],
      "execution_count": 26,
      "outputs": [
        {
          "output_type": "execute_result",
          "data": {
            "text/plain": [
              "array([ 0.,  1.,  2.,  3.,  4.,  5.,  6.,  7.,  8.,  9., 10.])"
            ]
          },
          "metadata": {
            "tags": []
          },
          "execution_count": 26
        }
      ]
    },
    {
      "cell_type": "markdown",
      "metadata": {
        "id": "7lK6-unXuoCq",
        "colab_type": "text"
      },
      "source": [
        "as the final points"
      ]
    },
    {
      "cell_type": "code",
      "metadata": {
        "id": "oOHclZQjuP4P",
        "colab_type": "code",
        "colab": {
          "base_uri": "https://localhost:8080/",
          "height": 34
        },
        "outputId": "a1ff2069-6f6a-4891-83d5-a2294b9f0e88"
      },
      "source": [
        "x[1:]"
      ],
      "execution_count": 30,
      "outputs": [
        {
          "output_type": "execute_result",
          "data": {
            "text/plain": [
              "array([ 1.,  2.,  3.,  4.,  5.,  6.,  7.,  8.,  9., 10.])"
            ]
          },
          "metadata": {
            "tags": []
          },
          "execution_count": 30
        }
      ]
    },
    {
      "cell_type": "markdown",
      "metadata": {
        "id": "iy0Hszj1ucjF",
        "colab_type": "text"
      },
      "source": [
        "such that the initial points are just"
      ]
    },
    {
      "cell_type": "code",
      "metadata": {
        "id": "lPVJFTa7utKA",
        "colab_type": "code",
        "colab": {
          "base_uri": "https://localhost:8080/",
          "height": 34
        },
        "outputId": "f2dd8b25-0f76-44f3-e181-fc108006d924"
      },
      "source": [
        "x[:-1]"
      ],
      "execution_count": 34,
      "outputs": [
        {
          "output_type": "execute_result",
          "data": {
            "text/plain": [
              "array([0., 1., 2., 3., 4., 5., 6., 7., 8., 9.])"
            ]
          },
          "metadata": {
            "tags": []
          },
          "execution_count": 34
        }
      ]
    },
    {
      "cell_type": "markdown",
      "metadata": {
        "id": "L0pAiKfxu0hN",
        "colab_type": "text"
      },
      "source": [
        "we can defind the set of nine _slopes_ as"
      ]
    },
    {
      "cell_type": "code",
      "metadata": {
        "id": "TuwCPrJgvSAU",
        "colab_type": "code",
        "colab": {
          "base_uri": "https://localhost:8080/",
          "height": 34
        },
        "outputId": "017716c4-3641-4119-9a9d-8517e8d78b50"
      },
      "source": [
        "m=(y(x[1:])-y(x[:-1]))/(x[1:]-x[:-1])\n",
        "m"
      ],
      "execution_count": 43,
      "outputs": [
        {
          "output_type": "execute_result",
          "data": {
            "text/plain": [
              "array([3., 3., 3., 3., 3., 3., 3., 3., 3., 3.])"
            ]
          },
          "metadata": {
            "tags": []
          },
          "execution_count": 43
        }
      ]
    },
    {
      "cell_type": "code",
      "metadata": {
        "id": "B3AOhRH8wPnr",
        "colab_type": "code",
        "colab": {}
      },
      "source": [
        "for i in  :\n",
        "    plt.plot(xx)"
      ],
      "execution_count": 0,
      "outputs": []
    },
    {
      "cell_type": "code",
      "metadata": {
        "id": "8_SSMuqZ1bxN",
        "colab_type": "code",
        "colab": {}
      },
      "source": [
        "for i in range(x[:-1].argmin(),x[:-1].argmax()):\n",
        "    plt.plot( x[:-1][i]"
      ],
      "execution_count": 0,
      "outputs": []
    },
    {
      "cell_type": "code",
      "metadata": {
        "id": "YpHyGjWn1cbK",
        "colab_type": "code",
        "colab": {}
      },
      "source": [
        ""
      ],
      "execution_count": 0,
      "outputs": []
    }
  ]
}