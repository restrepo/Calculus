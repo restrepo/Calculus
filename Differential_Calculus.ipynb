{
  "nbformat": 4,
  "nbformat_minor": 0,
  "metadata": {
    "colab": {
      "name": "Untitled",
      "provenance": [],
      "include_colab_link": true
    },
    "kernelspec": {
      "name": "python3",
      "display_name": "Python 3"
    }
  },
  "cells": [
    {
      "cell_type": "markdown",
      "metadata": {
        "id": "view-in-github",
        "colab_type": "text"
      },
      "source": [
        "<a href=\"https://colab.research.google.com/github/restrepo/Calculus/blob/master/Differential_Calculus.ipynb\" target=\"_parent\"><img src=\"https://colab.research.google.com/assets/colab-badge.svg\" alt=\"Open In Colab\"/></a>"
      ]
    },
    {
      "cell_type": "code",
      "metadata": {
        "id": "OJ_y27Sx9HWO",
        "colab_type": "code",
        "outputId": "1f5e1e4d-99d9-4b7d-b165-5a27cd25b8e5",
        "colab": {
          "base_uri": "https://localhost:8080/",
          "height": 34
        }
      },
      "source": [
        "%pylab inline\n",
        "import numpy as np"
      ],
      "execution_count": 0,
      "outputs": [
        {
          "output_type": "stream",
          "text": [
            "Populating the interactive namespace from numpy and matplotlib\n"
          ],
          "name": "stdout"
        }
      ]
    },
    {
      "cell_type": "markdown",
      "metadata": {
        "id": "6bESt1u5dJxF",
        "colab_type": "text"
      },
      "source": [
        "__IMPORTANT TIP__: To proper see the mathematical formulas open in Colab with the button in the first cell"
      ]
    },
    {
      "cell_type": "markdown",
      "metadata": {
        "id": "0u3GRgOmk9rq",
        "colab_type": "text"
      },
      "source": [
        "# Numerical derivative\n",
        "## straight line equations\n",
        "Consider the following straight line:\n",
        "$$ y=3x\\,, $$\n",
        "with two benchmark points $(x_1,y_1)=(1,3)$, $(x_2,y_2)=(3,9)$. \n",
        "\n",
        "From the general equation\n",
        "$$y=mx+b\\,,$$\n",
        "we can can calculate the _slope_ $m$ and the _intercept_ $b$ if we know two points. The _slope_ $m$ can be calculated as\n",
        "$$m=\\frac{y_2-y_1}{x_2-x_1}=\\frac{9-3}{3-1}=\\frac{6}{2}=3\\,,$$\n",
        "while the intercept $b$ is obtained from just one of the benchmark points from\n",
        "\\begin{align}\n",
        "b=y-mx\\,,\\qquad\\qquad (1)\n",
        "\\end{align}\n",
        "e.g,\n",
        "$$b=y_1-m x_1=3-3\\times 1=0$$\n",
        "\n"
      ]
    },
    {
      "cell_type": "markdown",
      "metadata": {
        "id": "OHv3uGWZbxiE",
        "colab_type": "text"
      },
      "source": [
        "## Passing one straight line trough a curve\n",
        "Consider fig. 1 below."
      ]
    },
    {
      "cell_type": "code",
      "metadata": {
        "id": "zmTK3c8_Lgrv",
        "colab_type": "code",
        "outputId": "5058dc8a-ca04-457a-d2b7-8b2f57bb280f",
        "colab": {
          "base_uri": "https://localhost:8080/",
          "height": 317
        }
      },
      "source": [
        "x100=np.linspace(0,10,100)\n",
        "def f(x):\n",
        "    if isinstance(x,list):\n",
        "        x=np.array(x)\n",
        "    return -(x-4)**2+100\n",
        "plt.plot(x100,f(x100),'k-')\n",
        "xs=np.array([1,5])\n",
        "plt.plot(xs,f(xs),'y*',markersize=10)\n",
        "plt.plot(xs,f(xs),'k--',markersize=10)\n",
        "plt.title('Fig 1.')\n",
        "plt.ylabel('$f(x)$',size=15)\n",
        "plt.xlabel('$x$',size=15)\n",
        "plt.plot( xs,[f(xs[0]),f(xs[0])],'y:' )\n",
        "plt.plot( [xs[1],xs[1]],f(xs),'y:' )\n",
        "plt.text(2.5,88,r'$\\Delta x={}$'.format(xs[1]-xs[0]))\n",
        "plt.text(5.2,93,r'$\\Delta y={}$'.format( f(xs[1])-f(xs[0])))\n",
        "#plt.legend(loc='best')\n",
        "plt.plot()"
      ],
      "execution_count": 0,
      "outputs": [
        {
          "output_type": "execute_result",
          "data": {
            "text/plain": [
              "[]"
            ]
          },
          "metadata": {
            "tags": []
          },
          "execution_count": 2
        },
        {
          "output_type": "display_data",
          "data": {
            "image/png": "[encoded data removed]",
            "text/plain": [
              "<Figure size 432x288 with 1 Axes>"
            ]
          },
          "metadata": {
            "tags": []
          }
        }
      ]
    },
    {
      "cell_type": "markdown",
      "metadata": {
        "id": "YsESZGX-L1YW",
        "colab_type": "text"
      },
      "source": [
        "We want to define the _straigth line_ which passes for two points of some curve with some spacing $\\Delta x$. We need the set of $x$-points, with some spacing $\\Delta x$, the evaluation of some function $f(x)$ of those points, and the _slope_ of the straight line. The corresponding function, implementing eq.(1), is shown below "
      ]
    },
    {
      "cell_type": "code",
      "metadata": {
        "id": "3ChjWBq0PTIX",
        "colab_type": "code",
        "colab": {}
      },
      "source": [
        "def slope(x,y,m):\n",
        "    '''\n",
        "    Use the initial points `(x[0],y[0])` and the slope `m`\n",
        "    to define an straight line as function of `x`:\n",
        "      f(x)=mx+b\n",
        "    '''\n",
        "    x=np.asarray(x)\n",
        "    y=np.asarray(y)\n",
        "    b=y[0]-m*x[0]\n",
        "    return m*x+b"
      ],
      "execution_count": 0,
      "outputs": []
    },
    {
      "cell_type": "markdown",
      "metadata": {
        "id": "7EwjjBdFPxml",
        "colab_type": "text"
      },
      "source": [
        "As an example, let us use the two points with $\\Delta x=4$ in Fig. 1. To find $m$ we can use the previuos two starred points"
      ]
    },
    {
      "cell_type": "code",
      "metadata": {
        "id": "x3NWNut-QkeK",
        "colab_type": "code",
        "outputId": "89c9fd54-66f2-4e30-8881-8a17fb7a30b4",
        "colab": {
          "base_uri": "https://localhost:8080/",
          "height": 34
        }
      },
      "source": [
        "Δy=f(xs[1])-f(xs[0])\n",
        "Δx=xs[1]-xs[0]\n",
        "m=Δy/Δx\n",
        "m"
      ],
      "execution_count": 0,
      "outputs": [
        {
          "output_type": "execute_result",
          "data": {
            "text/plain": [
              "2.0"
            ]
          },
          "metadata": {
            "tags": []
          },
          "execution_count": 4
        }
      ]
    },
    {
      "cell_type": "markdown",
      "metadata": {
        "id": "uzD4-lGQZBOy",
        "colab_type": "text"
      },
      "source": [
        "By using the `slope` function we have"
      ]
    },
    {
      "cell_type": "code",
      "metadata": {
        "id": "tvjiAZt_ZGhN",
        "colab_type": "code",
        "outputId": "16982e76-2933-4aa3-9e09-8bd4e6488c9b",
        "colab": {
          "base_uri": "https://localhost:8080/",
          "height": 301
        }
      },
      "source": [
        "plt.plot(x100,f(x100),'k-')\n",
        "xs=np.array([1,5])\n",
        "plt.plot(xs,f(xs),'y*',markersize=10)\n",
        "x=np.linspace(xs[0],7)\n",
        "plt.plot(x,slope(x,f(x),m),'k--')\n",
        "plt.ylabel('$f(x)$',size=15)\n",
        "plt.xlabel('$x$',size=15)"
      ],
      "execution_count": 0,
      "outputs": [
        {
          "output_type": "execute_result",
          "data": {
            "text/plain": [
              "Text(0.5, 0, '$x$')"
            ]
          },
          "metadata": {
            "tags": []
          },
          "execution_count": 5
        },
        {
          "output_type": "display_data",
          "data": {
            "image/png": "[encoded data removed]",
            "text/plain": [
              "<Figure size 432x288 with 1 Axes>"
            ]
          },
          "metadata": {
            "tags": []
          }
        }
      ]
    },
    {
      "cell_type": "markdown",
      "metadata": {
        "id": "r3At1a7Mc6ES",
        "colab_type": "text"
      },
      "source": [
        "## Studying the changes along a curve\n",
        "Let us start with just one straight line. "
      ]
    },
    {
      "cell_type": "code",
      "metadata": {
        "id": "8EaaHifdlxnU",
        "colab_type": "code",
        "outputId": "d18475e9-4794-4371-f374-ad02a184215d",
        "colab": {
          "base_uri": "https://localhost:8080/",
          "height": 284
        }
      },
      "source": [
        "x=np.linspace(0,10,11)\n",
        "def f(x):\n",
        "    return 3*x\n",
        "\n",
        "plt.plot(x,f(x),'k-')\n",
        "plt.plot(1,f(1),'y*',markersize=10)\n",
        "plt.plot(3,f(3),'y*',markersize=10)\n",
        "plt.plot([1,f(1)],[3,f(1)],'k--')\n",
        "plt.plot([3,f(1)],[3,f(3)],'k--')\n",
        "plt.xlabel('$x$',size=15)\n",
        "plt.ylabel('$y$',size=15)\n",
        "plt.grid()"
      ],
      "execution_count": 0,
      "outputs": [
        {
          "output_type": "display_data",
          "data": {
            "image/png": "[encoded data removed]",
            "text/plain": [
              "<Figure size 432x288 with 1 Axes>"
            ]
          },
          "metadata": {
            "tags": []
          }
        }
      ]
    },
    {
      "cell_type": "markdown",
      "metadata": {
        "id": "jz0KUW0VlzvF",
        "colab_type": "text"
      },
      "source": [
        "The main property of the straight line is that the same _slope_ is constant for any pair of points on it. To illustrate this explicitly, it is convenient to review the [slicing of a list in Python](https://railsware.com/blog/python-for-machine-learning-indexing-and-slicing-for-lists-tuples-strings-and-other-sequential-types/) [[Backup](https://web.archive.org/web/20190717104623/https://railsware.com/blog/python-for-machine-learning-indexing-and-slicing-for-lists-tuples-strings-and-other-sequential-types/)].\n",
        "\n",
        "Let an array like the previous one created with `numpy` for $N=11$ points"
      ]
    },
    {
      "cell_type": "code",
      "metadata": {
        "id": "7C3W1eGTt3TG",
        "colab_type": "code",
        "outputId": "f835a103-1658-40d4-eaa9-d5dda341b935",
        "colab": {
          "base_uri": "https://localhost:8080/",
          "height": 34
        }
      },
      "source": [
        "x"
      ],
      "execution_count": 0,
      "outputs": [
        {
          "output_type": "execute_result",
          "data": {
            "text/plain": [
              "array([ 0.,  1.,  2.,  3.,  4.,  5.,  6.,  7.,  8.,  9., 10.])"
            ]
          },
          "metadata": {
            "tags": []
          },
          "execution_count": 7
        }
      ]
    },
    {
      "cell_type": "markdown",
      "metadata": {
        "id": "LEnIAKu5fTd_",
        "colab_type": "text"
      },
      "source": [
        "The sequence of intitial $N-1=10$ points, $x_i$, is defined as all the points except by the last one:"
      ]
    },
    {
      "cell_type": "code",
      "metadata": {
        "id": "z2KkYE24fj-n",
        "colab_type": "code",
        "outputId": "3f1cbd12-979d-4035-e737-435b1c6b6b06",
        "colab": {
          "base_uri": "https://localhost:8080/",
          "height": 34
        }
      },
      "source": [
        "x[:-1]"
      ],
      "execution_count": 0,
      "outputs": [
        {
          "output_type": "execute_result",
          "data": {
            "text/plain": [
              "array([0., 1., 2., 3., 4., 5., 6., 7., 8., 9.])"
            ]
          },
          "metadata": {
            "tags": []
          },
          "execution_count": 8
        }
      ]
    },
    {
      "cell_type": "markdown",
      "metadata": {
        "id": "7lK6-unXuoCq",
        "colab_type": "text"
      },
      "source": [
        "while the sequence of the final $N-1=10$ points, $x_{i+1}$, is defined as"
      ]
    },
    {
      "cell_type": "code",
      "metadata": {
        "id": "oOHclZQjuP4P",
        "colab_type": "code",
        "outputId": "7ac6db8a-a301-46d1-c621-ccfc315b5467",
        "colab": {
          "base_uri": "https://localhost:8080/",
          "height": 34
        }
      },
      "source": [
        "x[1:]"
      ],
      "execution_count": 0,
      "outputs": [
        {
          "output_type": "execute_result",
          "data": {
            "text/plain": [
              "array([ 1.,  2.,  3.,  4.,  5.,  6.,  7.,  8.,  9., 10.])"
            ]
          },
          "metadata": {
            "tags": []
          },
          "execution_count": 9
        }
      ]
    },
    {
      "cell_type": "markdown",
      "metadata": {
        "id": "L0pAiKfxu0hN",
        "colab_type": "text"
      },
      "source": [
        "we can define the sequence of the $N-1=10$ differences between the final and intial points in $x$ as"
      ]
    },
    {
      "cell_type": "code",
      "metadata": {
        "id": "XYVtdI-974e7",
        "colab_type": "code",
        "outputId": "71228463-568d-4ecd-816a-818b1349005c",
        "colab": {
          "base_uri": "https://localhost:8080/",
          "height": 34
        }
      },
      "source": [
        "Δx=x[1:]-x[:-1]\n",
        "Δx"
      ],
      "execution_count": 0,
      "outputs": [
        {
          "output_type": "execute_result",
          "data": {
            "text/plain": [
              "array([1., 1., 1., 1., 1., 1., 1., 1., 1., 1.])"
            ]
          },
          "metadata": {
            "tags": []
          },
          "execution_count": 10
        }
      ]
    },
    {
      "cell_type": "markdown",
      "metadata": {
        "id": "C3AmT-0kgloA",
        "colab_type": "text"
      },
      "source": [
        "while the corresponding sequence of the $N-1=10$ differences between the final and intial points in $y$ is just"
      ]
    },
    {
      "cell_type": "code",
      "metadata": {
        "id": "Vljiee_k8LAV",
        "colab_type": "code",
        "outputId": "cf9b6c9e-c74e-4554-8fe2-04d9b9e04dd8",
        "colab": {
          "base_uri": "https://localhost:8080/",
          "height": 34
        }
      },
      "source": [
        "Δy=f(x[1:])-f(x[:-1])\n",
        "Δy            "
      ],
      "execution_count": 0,
      "outputs": [
        {
          "output_type": "execute_result",
          "data": {
            "text/plain": [
              "array([3., 3., 3., 3., 3., 3., 3., 3., 3., 3.])"
            ]
          },
          "metadata": {
            "tags": []
          },
          "execution_count": 11
        }
      ]
    },
    {
      "cell_type": "markdown",
      "metadata": {
        "id": "gPfpAe46h4Un",
        "colab_type": "text"
      },
      "source": [
        "We can now check that the $N-1=10$ slopes are all the same"
      ]
    },
    {
      "cell_type": "code",
      "metadata": {
        "id": "TuwCPrJgvSAU",
        "colab_type": "code",
        "outputId": "8607bb11-a057-4967-aa0c-03510774a5f6",
        "colab": {
          "base_uri": "https://localhost:8080/",
          "height": 34
        }
      },
      "source": [
        "m=Δy/Δx\n",
        "m"
      ],
      "execution_count": 0,
      "outputs": [
        {
          "output_type": "execute_result",
          "data": {
            "text/plain": [
              "array([3., 3., 3., 3., 3., 3., 3., 3., 3., 3.])"
            ]
          },
          "metadata": {
            "tags": []
          },
          "execution_count": 12
        }
      ]
    },
    {
      "cell_type": "markdown",
      "metadata": {
        "id": "A_-Q_pWAiNTh",
        "colab_type": "text"
      },
      "source": [
        "and we can rebuild the full function just by joining the $N-1=10$ straigth lines"
      ]
    },
    {
      "cell_type": "code",
      "metadata": {
        "id": "qW61YCGkiKQT",
        "colab_type": "code",
        "outputId": "310e8039-0027-4146-a55d-7aa8c0e72bd0",
        "colab": {
          "base_uri": "https://localhost:8080/",
          "height": 284
        }
      },
      "source": [
        "for i in range(Δx.size):\n",
        "    plt.plot(x[i:i+2],slope(x[i:i+2],f(x[i:i+2]),m[i]) )\n",
        "    \n",
        "plt.plot(x[:-1],f(x[:-1]),'k.')\n",
        "plt.plot(x[:-1],m,'c--')\n",
        "plt.xlabel('$x$',size=15)\n",
        "plt.ylabel('$y$',size=15)\n",
        "plt.grid()"
      ],
      "execution_count": 0,
      "outputs": [
        {
          "output_type": "display_data",
          "data": {
            "image/png": "[encoded data removed]",
            "text/plain": [
              "<Figure size 432x288 with 1 Axes>"
            ]
          },
          "metadata": {
            "tags": []
          }
        }
      ]
    },
    {
      "cell_type": "markdown",
      "metadata": {
        "id": "8_SSMuqZ1bxN",
        "colab_type": "text"
      },
      "source": [
        "Let us now to check the changes in the slope for the curve in Fig. 1 along $N=6$ points with same spacing $\\Delta x$"
      ]
    },
    {
      "cell_type": "code",
      "metadata": {
        "id": "OgC__I-qm5Es",
        "colab_type": "code",
        "outputId": "6a62858f-b38d-45f9-980f-a6df40fc6bfe",
        "colab": {
          "base_uri": "https://localhost:8080/",
          "height": 284
        }
      },
      "source": [
        "N=6\n",
        "x100=np.linspace(-0.5,10,100)\n",
        "x=np.linspace(0,10,6)\n",
        "def f(x):\n",
        "    if isinstance(x,list):\n",
        "        x=np.array(x)\n",
        "    return -(x-4)**2+100\n",
        "plt.plot(x100,f(x100),'k-')\n",
        "plt.plot(x,f(x),'y*',markersize=10)\n",
        "plt.ylabel('$f(x)$',size=15)\n",
        "plt.xlabel('$x$',size=15)\n",
        "plt.grid()"
      ],
      "execution_count": 0,
      "outputs": [
        {
          "output_type": "display_data",
          "data": {
            "image/png": "[encoded data removed]",
            "text/plain": [
              "<Figure size 432x288 with 1 Axes>"
            ]
          },
          "metadata": {
            "tags": []
          }
        }
      ]
    },
    {
      "cell_type": "markdown",
      "metadata": {
        "id": "GcyBYGpWnzhs",
        "colab_type": "text"
      },
      "source": [
        "Now the slope is different for each one of the $N-1=5$ straight lines"
      ]
    },
    {
      "cell_type": "code",
      "metadata": {
        "colab_type": "code",
        "outputId": "102a7e34-15d3-4289-b61f-2e8c8ad821be",
        "id": "zRkdbv1EoVLc",
        "colab": {
          "base_uri": "https://localhost:8080/",
          "height": 34
        }
      },
      "source": [
        "x=np.linspace(0,10,N)\n",
        "Δx=x[1:]-x[:-1]\n",
        "Δy=f(x[1:])-f(x[:-1])\n",
        "m=Δy/Δx\n",
        "m"
      ],
      "execution_count": 0,
      "outputs": [
        {
          "output_type": "execute_result",
          "data": {
            "text/plain": [
              "array([  6.,   2.,  -2.,  -6., -10.])"
            ]
          },
          "metadata": {
            "tags": []
          },
          "execution_count": 16
        }
      ]
    },
    {
      "cell_type": "markdown",
      "metadata": {
        "id": "jOeWwjrXoJzT",
        "colab_type": "text"
      },
      "source": [
        "Moreover, the $N-1=5$ straigth lines, shown in colors below, are a good approach to the real curve shown as the dashed cyan curve below. "
      ]
    },
    {
      "cell_type": "code",
      "metadata": {
        "id": "gnwfdEglrQ1M",
        "colab_type": "code",
        "outputId": "e4ddd943-4dca-4858-8a03-638aa413df9d",
        "colab": {
          "base_uri": "https://localhost:8080/",
          "height": 284
        }
      },
      "source": [
        "for i in range(Δx.size):\n",
        "    plt.plot(x[i:i+2],slope(x[i:i+2],f(x[i:i+2]),m[i]) )\n",
        "    \n",
        "plt.plot(x,f(x),'k.')\n",
        "plt.plot(x100,f(x100),'c--')\n",
        "plt.ylabel('$f(x)$',size=15)\n",
        "plt.xlabel('$x$',size=15)\n",
        "plt.grid()"
      ],
      "execution_count": 0,
      "outputs": [
        {
          "output_type": "display_data",
          "data": {
            "image/png": "[encoded data removed]",
            "text/plain": [
              "<Figure size 432x288 with 1 Axes>"
            ]
          },
          "metadata": {
            "tags": []
          }
        }
      ]
    },
    {
      "cell_type": "markdown",
      "metadata": {
        "id": "1H992EH3qHVR",
        "colab_type": "text"
      },
      "source": [
        "Note in fact that the dashed curve is really formed by 99 straight lines which are not longer visible by the naked eye. By zooming out around $x=4$"
      ]
    },
    {
      "cell_type": "code",
      "metadata": {
        "id": "oYZ68mBwuM6d",
        "colab_type": "code",
        "outputId": "fe0ee578-f2e6-4f54-ca21-ea63deb7f241",
        "colab": {
          "base_uri": "https://localhost:8080/",
          "height": 312
        }
      },
      "source": [
        "plt.plot(x100,f(x100),'c--')\n",
        "plt.plot(x100,f(x100),'k.')\n",
        "plt.grid()\n",
        "plt.xlim(3.8,4.2)\n",
        "plt.ylim(99.95,100.02)\n",
        "plt.ylabel('$f(x)$',size=15)\n",
        "plt.xlabel('$x$',size=15)"
      ],
      "execution_count": 0,
      "outputs": [
        {
          "output_type": "execute_result",
          "data": {
            "text/plain": [
              "Text(0.5, 0, '$x$')"
            ]
          },
          "metadata": {
            "tags": []
          },
          "execution_count": 18
        },
        {
          "output_type": "display_data",
          "data": {
            "image/png": "[encoded data removed]",
            "text/plain": [
              "<Figure size 432x288 with 1 Axes>"
            ]
          },
          "metadata": {
            "tags": []
          }
        }
      ]
    },
    {
      "cell_type": "markdown",
      "metadata": {
        "id": "_kcmEXS2pecy",
        "colab_type": "text"
      },
      "source": [
        "## Derivative definition"
      ]
    },
    {
      "cell_type": "markdown",
      "metadata": {
        "id": "G8ql6pBwrmeS",
        "colab_type": "text"
      },
      "source": [
        "Now we will focus in the intial slope as we change the size of $\\Delta x$"
      ]
    },
    {
      "cell_type": "code",
      "metadata": {
        "id": "ELTI0BBGr7WI",
        "colab_type": "code",
        "outputId": "b12f5c6d-939c-483a-9786-f76084fe6c7c",
        "colab": {
          "base_uri": "https://localhost:8080/",
          "height": 305
        }
      },
      "source": [
        "i=0\n",
        "mk=['k','b','r','g','y','c','m']\n",
        "#xend=[2,4,6]\n",
        "j=0\n",
        "for N in [3,4,10,50]:\n",
        "    x=np.linspace(0,10,N)\n",
        "    Δx=x[1:]-x[:-1]\n",
        "    Δy=f(x[1:])-f(x[:-1])\n",
        "    m=Δy/Δx\n",
        "    plt.plot(x[i:],slope(x[i:],f(x[i:]),m[i]),'{}--'.format(mk[j]),\n",
        "             label=r'$\\Delta x={}$'.format(round(x[1]-x[0],2)) )\n",
        "    plt.plot(x[:2],f(x[:2]),'k*')\n",
        "    j=j+1\n",
        "\n",
        "plt.plot(x100,f(x100),'k-')\n",
        "plt.ylabel('$f(x)$',size=15)\n",
        "plt.xlabel('$x$',size=15)\n",
        "plt.grid()\n",
        "plt.ylim(80,105)\n",
        "plt.xlim(-1,6)\n",
        "plt.legend(loc='best')"
      ],
      "execution_count": 0,
      "outputs": [
        {
          "output_type": "execute_result",
          "data": {
            "text/plain": [
              "<matplotlib.legend.Legend at 0x7f537a524748>"
            ]
          },
          "metadata": {
            "tags": []
          },
          "execution_count": 19
        },
        {
          "output_type": "display_data",
          "data": {
            "image/png": "[encoded data removed]",
            "text/plain": [
              "<Figure size 432x288 with 1 Axes>"
            ]
          },
          "metadata": {
            "tags": []
          }
        }
      ]
    },
    {
      "cell_type": "markdown",
      "metadata": {
        "id": "QKwbrSCBsK60",
        "colab_type": "text"
      },
      "source": [
        "We can see that as $\\Delta x\\to 0$ the slope approach to the _tangent line_ to the curve. The tangent line (or simply tangent) to a plane curve at a given point is the straight line that \"just touches\" the curve at that point.\n",
        "We define the derivative of $f(x)$ at point $x_0$: $f'(x_0)$ as the tangent to a curve at point $x_0$. \n",
        "\n",
        "In general\n",
        "$$f'(x)=\\lim_{\\Delta x\\to 0}\\frac{\\Delta y}{\\Delta x}\\,,$$\n",
        "is the tangent to the curve at point $x$. More specifically for two points $(x_i,f(x_i))$ and $(x_{i+1},f(x_{i+1}))$ at one curve, the derivative at $x_i$ is\n",
        "$$f'(x_i)=\\lim_{x_{i+1}\\to x_i}\\frac{f(x_{i+1})-f(x_i)}{x_{i+1}-x_i}\\,.$$\n",
        "\n",
        "By following the derivative of the function, we can rebuild the function itself. Since\n",
        "$x_{i+1}-x_i=\\Delta x$, we have that $x_{i+1}=x_i+\\Delta x$. Therefore, the derivative at $x$ can be definied as\n",
        "$$f'(x)=\\lim_{\\Delta x\\to 0}\\frac{f(x+\\Delta x)-f(x)}{\\Delta x}\\,,\\qquad\\qquad (2)$$\n",
        "where the fraction corresponds to the increased function minus the function without increasing over the increasing."
      ]
    },
    {
      "cell_type": "code",
      "metadata": {
        "id": "m9KcB9WRsqq-",
        "colab_type": "code",
        "outputId": "cca42369-0694-48d6-a6c9-79b1b6e93cdf",
        "colab": {
          "base_uri": "https://localhost:8080/",
          "height": 305
        }
      },
      "source": [
        "i=10\n",
        "mk=['g','b','r','k','y','c','m']\n",
        "#xend=[2,4,6]\n",
        "j=0\n",
        "for N in [50]:\n",
        "    x=np.linspace(0,10,N)\n",
        "    Δx=x[1:]-x[:-1]\n",
        "    Δy=f(x[1:])-f(x[:-1])\n",
        "    m=Δy/Δx\n",
        "    for i in [0,5,10,15,20]:\n",
        "        plt.plot(x[i:],slope(x[i:],f(x[i:]),m[i]),'{}--'.format(mk[j]),\n",
        "                label=r\"$f\\,'(x_{{{}}})$\".format(i) )\n",
        "        plt.plot(x[i:i+2],f(x[i:i+2]),'k*')\n",
        "        j+=1\n",
        "\n",
        "plt.plot(x100,f(x100),'k-')\n",
        "plt.ylabel('$f(x)$',size=15)\n",
        "plt.xlabel('$x$',size=15)\n",
        "plt.grid()\n",
        "plt.ylim(80,105)\n",
        "plt.xlim(-1,6)\n",
        "plt.legend(loc='best',fontsize=12)"
      ],
      "execution_count": 0,
      "outputs": [
        {
          "output_type": "execute_result",
          "data": {
            "text/plain": [
              "<matplotlib.legend.Legend at 0x7f537a53f780>"
            ]
          },
          "metadata": {
            "tags": []
          },
          "execution_count": 20
        },
        {
          "output_type": "display_data",
          "data": {
            "image/png": "[encoded data removed]",
            "text/plain": [
              "<Figure size 432x288 with 1 Axes>"
            ]
          },
          "metadata": {
            "tags": []
          }
        }
      ]
    },
    {
      "cell_type": "markdown",
      "metadata": {
        "id": "XIgdHrFQIaKW",
        "colab_type": "text"
      },
      "source": [
        "By evaluating the derivative in each point we can build a new function $f'(x)$ that is the derivative of $f(x)$"
      ]
    },
    {
      "cell_type": "code",
      "metadata": {
        "id": "RfeS4Jbd3cjJ",
        "colab_type": "code",
        "outputId": "1b1438b9-9635-4243-fe2c-3c96140cd168",
        "colab": {
          "base_uri": "https://localhost:8080/",
          "height": 317
        }
      },
      "source": [
        "plt.plot(x,f(x),'k-',label='$f(x)=-(x-4)^2+100$')\n",
        "plt.plot(x[:-1],m,'c-',label=\"$f\\,'(x)$\")\n",
        "plt.plot(x,-2*x+8,'k--',label='$-2x+8$')\n",
        "plt.xlabel('$x$',size=15)\n",
        "#Second derivative\n",
        "def fp(x):\n",
        "    return -2*x+8\n",
        "xp=np.linspace(0,10,20)\n",
        "Δxp=xp[1:]-xp[:-1]\n",
        "Δyp=fp(xp[1:])-fp(xp[:-1])\n",
        "mp=Δyp/Δxp\n",
        "plt.plot(xp[:-1],mp,'r-',label=\"$f\\,''(x)$\")\n",
        "plt.grid()\n",
        "legend(loc='best',fontsize=15)\n",
        "plt.title('Figure 2.')"
      ],
      "execution_count": 0,
      "outputs": [
        {
          "output_type": "execute_result",
          "data": {
            "text/plain": [
              "Text(0.5, 1.0, 'Figure 2.')"
            ]
          },
          "metadata": {
            "tags": []
          },
          "execution_count": 23
        },
        {
          "output_type": "display_data",
          "data": {
            "image/png": "[encoded data removed]",
            "text/plain": [
              "<Figure size 432x288 with 1 Axes>"
            ]
          },
          "metadata": {
            "tags": []
          }
        }
      ]
    },
    {
      "cell_type": "markdown",
      "metadata": {
        "id": "ytu5m1idJOr7",
        "colab_type": "text"
      },
      "source": [
        "Until now...\n",
        "* The derivative of polynomial of degree 2 is a straight line.\n",
        "* The derivative of a straight line is a constant.\n",
        "* It is clear tat the derivative of an horizontal line is cero. Therefore if $f(x)=a$, with $a$ a constant, then $f'(x)=0$"
      ]
    },
    {
      "cell_type": "markdown",
      "metadata": {
        "id": "qP16XT4YRVBI",
        "colab_type": "text"
      },
      "source": [
        "## Analytical calculations"
      ]
    },
    {
      "cell_type": "markdown",
      "metadata": {
        "id": "XNMdXGO0J6mv",
        "colab_type": "text"
      },
      "source": [
        "Analytical calculations for the derivative of $f(x)$ can be done from eq. (2):\n",
        "\n",
        "* For $f(x)=a$ where $a$ is a constant, imply that $f(x+\\Delta x)=a$. Therefore  \n",
        "\\begin{align}\n",
        "f'(x)=&\\lim_{\\Delta x\\to 0}\\frac{f(x+\\Delta x)-f(x)}{\\Delta x}\\\\\n",
        "&\\lim_{\\Delta x\\to 0}\\frac{a-a}{\\Delta x}=0\\,.\n",
        "\\end{align}\n",
        "\n",
        "* For $f(x)=x$\n",
        "\\begin{align}\n",
        "f'(x)=&\\lim_{\\Delta x\\to 0}\\frac{x+\\Delta x-x}{\\Delta x}\\\\\n",
        "     =& \\lim_{\\Delta x\\to 0}\\frac{\\Delta x}{\\Delta x}\\\\\n",
        "     =& 1\\,.\n",
        "\\end{align}\n",
        "\n",
        "* For $f(x)=x^2$ \n",
        "\\begin{align}\n",
        "f'(x)=&\\lim_{\\Delta x\\to 0}\\frac{(x+\\Delta x)^2-x^2}{\\Delta x}\\\\\n",
        "     =& \\lim_{\\Delta x\\to 0}\\frac{x^2+2x\\Delta x + (\\Delta x)^2-x^2}{\\Delta x}\\\\\n",
        "     =& \\lim_{\\Delta x\\to 0}\\frac{2x\\Delta x + (\\Delta x)^2}{\\Delta x}\\\\\n",
        "     =& \\lim_{\\Delta x\\to 0}(2x + \\Delta x)\n",
        "     =2x\n",
        "\\end{align}\n",
        "\n",
        "* In general, for $f(x)=x^n$\n",
        "\\begin{align}\n",
        "f'(x)=&n x^{n-1}\\,.\n",
        "\\end{align}\n"
      ]
    },
    {
      "cell_type": "markdown",
      "metadata": {
        "id": "TGwLbKMFS7Yp",
        "colab_type": "text"
      },
      "source": [
        "## Some properties\n",
        "1. If $f(x)=g(x)+a$, where $a$ is constant\n",
        "\\begin{align}\n",
        "f'(x)=&\\lim_{\\Delta x\\to 0}\\frac{f(x+\\Delta x)-f(x)}{\\Delta x}\\\\\n",
        "=&\\lim_{\\Delta x\\to 0}\\frac{g(x+\\Delta x)+a-g(x)-a}{\\Delta x}\\\\\n",
        "=&\\lim_{\\Delta x\\to 0}\\frac{g(x+\\Delta x)-g(x)}{\\Delta x}\\\\\n",
        "f'(x)=&g'(x)\\,.\n",
        "\\end{align}\n",
        "\n",
        "1. If $f(x)=a\\,g(x)$, where $a$ is constant\n",
        "\\begin{align}\n",
        "f'(x)=&\\lim_{\\Delta x\\to 0}\\frac{f(x+\\Delta x)-f(x)}{\\Delta x}\\\\\n",
        "=&\\lim_{\\Delta x\\to 0}\\frac{ag(x+\\Delta x)-ag(x)}{\\Delta x}\\\\\n",
        "=&a\\lim_{\\Delta x\\to 0}\\frac{g(x+\\Delta x)-g(x)}{\\Delta x}\\\\\n",
        "f'(x)=&ag'(x)\\,.\n",
        "\\end{align}\n",
        "\n",
        "1. If $f(x)=g(x)+h(x)$, where $a$ is constant\n",
        "\\begin{align}\n",
        "f'(x)=&\\lim_{\\Delta x\\to 0}\\frac{f(x+\\Delta x)-f(x)}{\\Delta x}\\\\\n",
        "=&\\lim_{\\Delta x\\to 0}\\frac{g(x+\\Delta x)+h(x+\\Delta x)-g(x)-h(x)}{\\Delta x}\\\\\n",
        "=&\\lim_{\\Delta x\\to 0}\\frac{g(x+\\Delta x)-g(x)}{\\Delta x}\n",
        "+\\lim_{\\Delta x\\to 0}\\frac{h(x+\\Delta x)-h(x)}{\\Delta x}\\\\\n",
        "f'(x)=& g'(x)+h'(x)\\,.\n",
        "\\end{align}\n",
        "\n"
      ]
    },
    {
      "cell_type": "markdown",
      "metadata": {
        "id": "I67R_pd4OJZ5",
        "colab_type": "text"
      },
      "source": [
        "### Example\n",
        "Let $f(x)=-(x-4)^2+100=-(x^2-8x+16)+100=-x^2+8x-16+100=-x^2+8x+84$. \n",
        "\n",
        "Therefore $f(x)=g(x)+h(x)+a$, where $g(x)=-x^2$, $h(x)=8x$  and $a=84$.\n",
        "\n",
        "Since $g'(x)=-2x$ and $h'(x)=8$ (by using property 2.), then (by using properties 1. and 3. ) \n",
        "\n",
        "$f'(x)=g'(x)+h'(x)=-2x+8$ as displayed in Fig. 2"
      ]
    },
    {
      "cell_type": "markdown",
      "metadata": {
        "id": "Ac0hxfZhVD82",
        "colab_type": "text"
      },
      "source": [
        "### Example\n",
        "Let $f(x)=\\sin x$\n",
        "\\begin{align}\n",
        "f'(x)=&\\lim_{\\Delta x\\to 0}\\frac{f(x+\\Delta x)-f(x)}{\\Delta x}\\\\\n",
        "=&\\lim_{\\Delta x\\to 0}\\frac{\\sin(x+\\Delta x)-\\sin(x)}{\\Delta x}\\\\\n",
        "=&\\lim_{\\Delta x\\to 0}\\frac{\\sin x\\cos(\\Delta x)+\\cos x\\sin(\\Delta x)-\\sin(x)}{\\Delta x}\\\\\n",
        "=&\\lim_{\\Delta x\\to 0}\\frac{\\sin x\\cos(\\Delta x)-\\sin(x)}{\\Delta x}+\n",
        "\\lim_{\\Delta x\\to 0}\\frac{\\cos x\\sin(\\Delta x)}{\\Delta x}\\,.\n",
        "\\end{align}\n",
        "For $\\Delta x\\to 0$ we have that $\\cos(\\Delta x)\\to 1$ and $\\sin(\\Delta x)\\to \\Delta x$, therefore\n",
        "\\begin{align}\n",
        "f'(x)\n",
        "=&\\lim_{\\Delta x\\to 0}\\frac{\\sin x-\\sin(x)}{\\Delta x}+\n",
        "\\lim_{\\Delta x\\to 0}\\frac{ \\Delta x}{\\Delta x}\\cos x\\\\\n",
        "=&\\cos x\\,,\n",
        "\\end{align}\n",
        "Similarly, for $f(x)=\\cos x$\n",
        "$$f'(x)=-\\sin x\\,.$$\n"
      ]
    },
    {
      "cell_type": "markdown",
      "metadata": {
        "id": "OuZZ_GPWVJ1Q",
        "colab_type": "text"
      },
      "source": [
        "## Extra properties\n",
        "For complicated functions it is better to used anoter notation for the derivative defined as\n",
        "$$f'(x)=\\frac{df(x)}{dx}$$\n",
        "Example\n",
        "$$\\frac{d}{dx}\\sin(x)=\\cos(x)$$\n",
        "$$\\frac{d}{dx}\\cos(x)=-\\sin(x)$$\n",
        "\n",
        "### Chain rule\n",
        "$$\\frac{d}{dx}f(g(x))=f'(g(x))g'(x)$$\n",
        "Proof in https://youtu.be/_00HzDn7pzg, \n",
        "\n",
        "### Example\n",
        "Before we have \n",
        "$$f(x)=\\sin(x)$$\n",
        "If now $x=\\omega t+\\delta\\,,$ with $\\omega$ and $\\delta$ constants\n",
        "$$f(g(t))=\\sin(g(t))=\\sin(\\omega t+\\delta),$$ \n",
        "where $g(t)=\\omega t+\\delta$. Therefore\n",
        "$$\\frac{d}{dx}\\sin(g(t))=\\cos(g(t))\\times (g'(t))=\\cos(\\omega t)\\times g'(t)$$\n",
        "Since\n",
        "$g'(t)=\\omega$,\n",
        "$$\\frac{d}{dx}\\sin(\\omega t)=\\omega\\cos(\\omega t)$$"
      ]
    },
    {
      "cell_type": "markdown",
      "metadata": {
        "id": "9wrOUWKmEtRR",
        "colab_type": "text"
      },
      "source": [
        "### Example: Uniform circular movement\n",
        "![alt text](https://raw.githubusercontent.com/restrepo/Calculus/master/mcu.svg)"
      ]
    },
    {
      "cell_type": "code",
      "metadata": {
        "id": "WHk8WjvPFK_B",
        "colab_type": "code",
        "colab": {}
      },
      "source": [
        ""
      ],
      "execution_count": 0,
      "outputs": []
    }
  ]
}