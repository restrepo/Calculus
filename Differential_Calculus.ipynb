{
  "nbformat": 4,
  "nbformat_minor": 0,
  "metadata": {
    "colab": {
      "name": "Untitled",
      "provenance": [],
      "include_colab_link": true
    },
    "kernelspec": {
      "name": "python3",
      "display_name": "Python 3"
    }
  },
  "cells": [
    {
      "cell_type": "markdown",
      "metadata": {
        "id": "view-in-github",
        "colab_type": "text"
      },
      "source": [
        "<a href=\"https://colab.research.google.com/github/restrepo/calculus/blob/master/Differential_Calculus.ipynb\" target=\"_parent\"><img src=\"https://colab.research.google.com/assets/colab-badge.svg\" alt=\"Open In Colab\"/></a>"
      ]
    },
    {
      "cell_type": "code",
      "metadata": {
        "id": "OJ_y27Sx9HWO",
        "colab_type": "code",
        "outputId": "415cee28-1dc4-472f-f058-c1b9bbebd7fa",
        "colab": {
          "base_uri": "https://localhost:8080/",
          "height": 34
        }
      },
      "source": [
        "%pylab inline\n",
        "import numpy as np"
      ],
      "execution_count": 43,
      "outputs": [
        {
          "output_type": "stream",
          "text": [
            "Populating the interactive namespace from numpy and matplotlib\n"
          ],
          "name": "stdout"
        }
      ]
    },
    {
      "cell_type": "markdown",
      "metadata": {
        "id": "0u3GRgOmk9rq",
        "colab_type": "text"
      },
      "source": [
        "# Numerical derivative\n",
        "## straight line equations\n",
        "Consider the following straight line:\n",
        "$$ y=3x\\,, $$\n",
        "with two benchmark points $(x_1,y_1)=(1,3)$, $(x_2,y_2)=(3,9)$. \n",
        "\n",
        "From the general equation\n",
        "$$y=mx+b\\,,$$\n",
        "we can can calculate the _slope_ $m$ and the _intercept_ $b$ if we know two points. The _slope_ $m$ can be calculated as\n",
        "$$m=\\frac{y_2-y_1}{x_2-x_1}=\\frac{9-3}{3-1}=\\frac{6}{2}=3\\,,$$\n",
        "while the intercept $b$ is obtained from just one of the benchmark points from\n",
        "\\begin{align}\n",
        "b=y-mx\\,,\\qquad\\qquad (1)\n",
        "\\end{align}\n",
        "e.g,\n",
        "$$b=y_1-m x_1=3-3\\times 1=0$$\n",
        "\n",
        "Consider fig. 1 below.\n",
        "\n"
      ]
    },
    {
      "cell_type": "code",
      "metadata": {
        "id": "zmTK3c8_Lgrv",
        "colab_type": "code",
        "colab": {
          "base_uri": "https://localhost:8080/",
          "height": 317
        },
        "outputId": "30d1b282-78c9-4981-a9da-d63784ddda90"
      },
      "source": [
        "x100=np.linspace(0,10,100)\n",
        "def f(x):\n",
        "    if isinstance(x,list):\n",
        "        x=np.array(x)\n",
        "    return -(x-4)**2+100\n",
        "plt.plot(x100,f(x100),'k-')\n",
        "xs=np.array([1,5])\n",
        "plt.plot(xs,f(xs),'y*',markersize=10)\n",
        "plt.plot(xs,f(xs),'k--',markersize=10)\n",
        "plt.title('Fig 1.')\n",
        "plt.ylabel('$f(x)$',size=15)\n",
        "plt.xlabel('$x$',size=15)\n",
        "plt.plot( xs,[f(xs[0]),f(xs[0])],'y:' )\n",
        "plt.plot( [xs[1],xs[1]],f(xs),'y:' )\n",
        "plt.text(2.5,88,r'$\\Delta x={}$'.format(xs[1]-xs[0]))\n",
        "plt.text(5.2,93,r'$\\Delta y={}$'.format( f(xs[1])-f(xs[0])))\n",
        "#plt.legend(loc='best')\n",
        "plt.plot()"
      ],
      "execution_count": 94,
      "outputs": [
        {
          "output_type": "execute_result",
          "data": {
            "text/plain": [
              "[]"
            ]
          },
          "metadata": {
            "tags": []
          },
          "execution_count": 94
        },
        {
          "output_type": "display_data",
          "data": {
            "image/png": "[encoded data removed]",
            "text/plain": [
              "<Figure size 432x288 with 1 Axes>"
            ]
          },
          "metadata": {
            "tags": []
          }
        }
      ]
    },
    {
      "cell_type": "markdown",
      "metadata": {
        "id": "YsESZGX-L1YW",
        "colab_type": "text"
      },
      "source": [
        "We want to define the _straigth line_ which passes for two points of some curve with some spacing $\\delta x$. We need the set of $x$-points, with some spacing $\\Delta x$, the evaluation of some function $f(x)$ of those points, and the _slope_ of the straight line. The corresponding function, implementing eq.(1), is shown below "
      ]
    },
    {
      "cell_type": "code",
      "metadata": {
        "id": "3ChjWBq0PTIX",
        "colab_type": "code",
        "colab": {}
      },
      "source": [
        "def slope(x,y,m):\n",
        "    x=np.asarray(x)\n",
        "    y=np.asarray(y)\n",
        "    b=y[0]-m*x[0]\n",
        "    return m*x+b"
      ],
      "execution_count": 0,
      "outputs": []
    },
    {
      "cell_type": "markdown",
      "metadata": {
        "id": "7EwjjBdFPxml",
        "colab_type": "text"
      },
      "source": [
        "As an example, let us use the two points with $\\Delta x=4$ in Fig. 1 to find $m$ so we can use the previuos `slope` function "
      ]
    },
    {
      "cell_type": "code",
      "metadata": {
        "id": "9MDwpvf_QMzs",
        "colab_type": "code",
        "colab": {
          "base_uri": "https://localhost:8080/",
          "height": 34
        },
        "outputId": "a4b54ce9-3f5b-4efb-a79a-81d81d04d893"
      },
      "source": [
        "m=( f(xs[1])-f([xs[0]]) )/( xs[1]-xs[0] )\n",
        "m"
      ],
      "execution_count": 74,
      "outputs": [
        {
          "output_type": "execute_result",
          "data": {
            "text/plain": [
              "array([2.])"
            ]
          },
          "metadata": {
            "tags": []
          },
          "execution_count": 74
        }
      ]
    },
    {
      "cell_type": "code",
      "metadata": {
        "id": "x3NWNut-QkeK",
        "colab_type": "code",
        "colab": {
          "base_uri": "https://localhost:8080/",
          "height": 34
        },
        "outputId": "8d9b8a75-5e47-4a41-e587-bb9f27d5fbac"
      },
      "source": [
        "Δy=f(xs[1])-f(xs[0])"
      ],
      "execution_count": 80,
      "outputs": [
        {
          "output_type": "execute_result",
          "data": {
            "text/plain": [
              "8"
            ]
          },
          "metadata": {
            "tags": []
          },
          "execution_count": 80
        }
      ]
    },
    {
      "cell_type": "code",
      "metadata": {
        "id": "l3rZ9rsSvqic",
        "colab_type": "code",
        "colab": {
          "base_uri": "https://localhost:8080/",
          "height": 34
        },
        "outputId": "e4f96d67-0634-4652-fde0-c4536bcf3da8"
      },
      "source": [
        "x=np.linspace(0,10,11)\n",
        "def y(x):\n",
        "    return 3*x\n",
        "y(x)"
      ],
      "execution_count": 37,
      "outputs": [
        {
          "output_type": "execute_result",
          "data": {
            "text/plain": [
              "array([ 0.,  3.,  6.,  9., 12., 15., 18., 21., 24., 27., 30.])"
            ]
          },
          "metadata": {
            "tags": []
          },
          "execution_count": 37
        }
      ]
    },
    {
      "cell_type": "code",
      "metadata": {
        "id": "8EaaHifdlxnU",
        "colab_type": "code",
        "colab": {
          "base_uri": "https://localhost:8080/",
          "height": 284
        },
        "outputId": "9986ed24-400c-4e11-eeb6-6d197498142f"
      },
      "source": [
        "x=np.linspace(0,10,11)\n",
        "def y(x):\n",
        "    return 3*x\n",
        "plt.plot(x,y(x),'k-')\n",
        "plt.plot(1,y(1),'y*',markersize=10)\n",
        "plt.plot(3,y(3),'y*',markersize=10)\n",
        "plt.plot([1,y(1)],[3,y(1)],'k--')\n",
        "plt.plot([3,y(1)],[3,y(3)],'k--')\n",
        "plt.xlabel('$x$',size=15)\n",
        "plt.ylabel('$y$',size=15)\n",
        "plt.grid()"
      ],
      "execution_count": 41,
      "outputs": [
        {
          "output_type": "display_data",
          "data": {
            "image/png": "[encoded data removed]",
            "text/plain": [
              "<Figure size 432x288 with 1 Axes>"
            ]
          },
          "metadata": {
            "tags": []
          }
        }
      ]
    },
    {
      "cell_type": "markdown",
      "metadata": {
        "id": "jz0KUW0VlzvF",
        "colab_type": "text"
      },
      "source": [
        "The main property of the straight line is that the same _slope_ can be obtained from any pair of points on it. To show we can defined the incresead linspace for"
      ]
    },
    {
      "cell_type": "code",
      "metadata": {
        "id": "7C3W1eGTt3TG",
        "colab_type": "code",
        "colab": {
          "base_uri": "https://localhost:8080/",
          "height": 34
        },
        "outputId": "6b6ffce9-f32e-4c4b-a1ae-8638da148c65"
      },
      "source": [
        "x"
      ],
      "execution_count": 26,
      "outputs": [
        {
          "output_type": "execute_result",
          "data": {
            "text/plain": [
              "array([ 0.,  1.,  2.,  3.,  4.,  5.,  6.,  7.,  8.,  9., 10.])"
            ]
          },
          "metadata": {
            "tags": []
          },
          "execution_count": 26
        }
      ]
    },
    {
      "cell_type": "markdown",
      "metadata": {
        "id": "7lK6-unXuoCq",
        "colab_type": "text"
      },
      "source": [
        "as the final points"
      ]
    },
    {
      "cell_type": "code",
      "metadata": {
        "id": "oOHclZQjuP4P",
        "colab_type": "code",
        "colab": {
          "base_uri": "https://localhost:8080/",
          "height": 34
        },
        "outputId": "a1ff2069-6f6a-4891-83d5-a2294b9f0e88"
      },
      "source": [
        "x[1:]"
      ],
      "execution_count": 30,
      "outputs": [
        {
          "output_type": "execute_result",
          "data": {
            "text/plain": [
              "array([ 1.,  2.,  3.,  4.,  5.,  6.,  7.,  8.,  9., 10.])"
            ]
          },
          "metadata": {
            "tags": []
          },
          "execution_count": 30
        }
      ]
    },
    {
      "cell_type": "markdown",
      "metadata": {
        "id": "iy0Hszj1ucjF",
        "colab_type": "text"
      },
      "source": [
        "such that the initial points are just"
      ]
    },
    {
      "cell_type": "code",
      "metadata": {
        "id": "lPVJFTa7utKA",
        "colab_type": "code",
        "colab": {
          "base_uri": "https://localhost:8080/",
          "height": 34
        },
        "outputId": "f2dd8b25-0f76-44f3-e181-fc108006d924"
      },
      "source": [
        "x[:-1]"
      ],
      "execution_count": 34,
      "outputs": [
        {
          "output_type": "execute_result",
          "data": {
            "text/plain": [
              "array([0., 1., 2., 3., 4., 5., 6., 7., 8., 9.])"
            ]
          },
          "metadata": {
            "tags": []
          },
          "execution_count": 34
        }
      ]
    },
    {
      "cell_type": "markdown",
      "metadata": {
        "id": "L0pAiKfxu0hN",
        "colab_type": "text"
      },
      "source": [
        "we can defind the set of nine _slopes_ as"
      ]
    },
    {
      "cell_type": "code",
      "metadata": {
        "id": "XYVtdI-974e7",
        "colab_type": "code",
        "colab": {
          "base_uri": "https://localhost:8080/",
          "height": 34
        },
        "outputId": "0ce0bee1-3e0c-47d0-83b8-b89cbb9b661c"
      },
      "source": [
        "Δx=x[1:]-x[:-1]\n",
        "Δx"
      ],
      "execution_count": 64,
      "outputs": [
        {
          "output_type": "execute_result",
          "data": {
            "text/plain": [
              "array([1., 1., 1., 1., 1., 1., 1., 1., 1., 1.])"
            ]
          },
          "metadata": {
            "tags": []
          },
          "execution_count": 64
        }
      ]
    },
    {
      "cell_type": "code",
      "metadata": {
        "id": "Vljiee_k8LAV",
        "colab_type": "code",
        "colab": {
          "base_uri": "https://localhost:8080/",
          "height": 34
        },
        "outputId": "7569a288-85b8-4d45-a417-dac64b889ebc"
      },
      "source": [
        "Δy=y(x[1:])-y(x[:-1])\n",
        "Δy            "
      ],
      "execution_count": 52,
      "outputs": [
        {
          "output_type": "execute_result",
          "data": {
            "text/plain": [
              "array([3., 3., 3., 3., 3., 3., 3., 3., 3., 3.])"
            ]
          },
          "metadata": {
            "tags": []
          },
          "execution_count": 52
        }
      ]
    },
    {
      "cell_type": "code",
      "metadata": {
        "id": "TuwCPrJgvSAU",
        "colab_type": "code",
        "colab": {
          "base_uri": "https://localhost:8080/",
          "height": 34
        },
        "outputId": "a6da45e6-1052-419d-9db6-8a01287fff40"
      },
      "source": [
        "m=Δy/Δx\n",
        "m"
      ],
      "execution_count": 53,
      "outputs": [
        {
          "output_type": "execute_result",
          "data": {
            "text/plain": [
              "array([3., 3., 3., 3., 3., 3., 3., 3., 3., 3.])"
            ]
          },
          "metadata": {
            "tags": []
          },
          "execution_count": 53
        }
      ]
    },
    {
      "cell_type": "code",
      "metadata": {
        "id": "8_SSMuqZ1bxN",
        "colab_type": "code",
        "colab": {
          "base_uri": "https://localhost:8080/",
          "height": 265
        },
        "outputId": "4227bd9a-b25c-4cfc-dfd0-1963928cfb97"
      },
      "source": [
        "for i in range(Δx.size):\n",
        "    plt.plot(x[i:i+2],m[i]*x[i:i+2])\n",
        "    \n",
        "plt.plot(x[:-1],y(x[:-1]),'k.')   \n",
        "plt.grid()"
      ],
      "execution_count": 102,
      "outputs": [
        {
          "output_type": "display_data",
          "data": {
            "image/png": "[encoded data removed]",
            "text/plain": [
              "<Figure size 432x288 with 1 Axes>"
            ]
          },
          "metadata": {
            "tags": []
          }
        }
      ]
    },
    {
      "cell_type": "code",
      "metadata": {
        "id": "xQdDTgEHJ2_w",
        "colab_type": "code",
        "colab": {
          "base_uri": "https://localhost:8080/",
          "height": 34
        },
        "outputId": "2e61b77d-4d3e-4e82-ef21-c1711e142dcf"
      },
      "source": [
        "isinstance([1,2],list)"
      ],
      "execution_count": 51,
      "outputs": [
        {
          "output_type": "execute_result",
          "data": {
            "text/plain": [
              "True"
            ]
          },
          "metadata": {
            "tags": []
          },
          "execution_count": 51
        }
      ]
    },
    {
      "cell_type": "code",
      "metadata": {
        "id": "OgC__I-qm5Es",
        "colab_type": "code",
        "colab": {
          "base_uri": "https://localhost:8080/",
          "height": 282
        },
        "outputId": "0204bf1f-280d-435c-ade6-3bf0455fcc57"
      },
      "source": [
        "x100=np.linspace(0,10,100)\n",
        "def f(x):\n",
        "    if isinstance(x,list):\n",
        "        x=np.array(x)\n",
        "    return -(x-4)**2+100\n",
        "plt.plot(x100,f(x100),'k-')\n",
        "plt.plot([1,5],f([1,5]),'y*',markersize=10)\n",
        "plt.plot([1,5],f([1,5]),'k--',markersize=10)"
      ],
      "execution_count": 76,
      "outputs": [
        {
          "output_type": "execute_result",
          "data": {
            "text/plain": [
              "[<matplotlib.lines.Line2D at 0x7f498f4c7550>]"
            ]
          },
          "metadata": {
            "tags": []
          },
          "execution_count": 76
        },
        {
          "output_type": "display_data",
          "data": {
            "image/png": "[encoded data removed]",
            "text/plain": [
              "<Figure size 432x288 with 1 Axes>"
            ]
          },
          "metadata": {
            "tags": []
          }
        }
      ]
    },
    {
      "cell_type": "code",
      "metadata": {
        "colab_type": "code",
        "outputId": "d7585e86-8041-4c24-f47d-f2df18b0ae18",
        "id": "zRkdbv1EoVLc",
        "colab": {
          "base_uri": "https://localhost:8080/",
          "height": 34
        }
      },
      "source": [
        "x=np.linspace(0,10,6)\n",
        "Δx=x[1:]-x[:-1]\n",
        "Δy=f(x[1:])-f(x[:-1])\n",
        "m=Δy/Δx\n",
        "m.round(1)         "
      ],
      "execution_count": 77,
      "outputs": [
        {
          "output_type": "execute_result",
          "data": {
            "text/plain": [
              "array([  6.,   2.,  -2.,  -6., -10.])"
            ]
          },
          "metadata": {
            "tags": []
          },
          "execution_count": 77
        }
      ]
    },
    {
      "cell_type": "code",
      "metadata": {
        "id": "w1q-Dj1Ypz9o",
        "colab_type": "code",
        "colab": {}
      },
      "source": [
        "def slope(x,y,m):\n",
        "    b=y[0]-m*x[0]\n",
        "    return m*x+b"
      ],
      "execution_count": 0,
      "outputs": []
    },
    {
      "cell_type": "code",
      "metadata": {
        "id": "gnwfdEglrQ1M",
        "colab_type": "code",
        "colab": {
          "base_uri": "https://localhost:8080/",
          "height": 265
        },
        "outputId": "a0679462-a388-4f23-a765-66f4ab563271"
      },
      "source": [
        "for i in range(Δx.size):\n",
        "    plt.plot(x[i:i+2],slope(x[i:i+2],f(x[i:i+2]),m[i]) )\n",
        "    \n",
        "plt.plot(x[:-1],f(x[:-1]),'k.')\n",
        "plt.plot(x100,f(x100),'c--')   \n",
        "plt.grid()"
      ],
      "execution_count": 79,
      "outputs": [
        {
          "output_type": "display_data",
          "data": {
            "image/png": "[encoded data removed]",
            "text/plain": [
              "<Figure size 432x288 with 1 Axes>"
            ]
          },
          "metadata": {
            "tags": []
          }
        }
      ]
    },
    {
      "cell_type": "code",
      "metadata": {
        "id": "oYZ68mBwuM6d",
        "colab_type": "code",
        "colab": {}
      },
      "source": [
        ""
      ],
      "execution_count": 0,
      "outputs": []
    }
  ]
}