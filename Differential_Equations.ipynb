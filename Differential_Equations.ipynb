{
  "nbformat": 4,
  "nbformat_minor": 0,
  "metadata": {
    "colab": {
      "name": "Differential Equations",
      "provenance": [],
      "include_colab_link": true
    },
    "kernelspec": {
      "name": "python3",
      "display_name": "Python 3"
    }
  },
  "cells": [
    {
      "cell_type": "markdown",
      "metadata": {
        "id": "view-in-github",
        "colab_type": "text"
      },
      "source": [
        "<a href=\"https://colab.research.google.com/github/restrepo/Calculus/blob/master/Differential_Equations.ipynb\" target=\"_parent\"><img src=\"https://colab.research.google.com/assets/colab-badge.svg\" alt=\"Open In Colab\"/></a>"
      ]
    },
    {
      "cell_type": "code",
      "metadata": {
        "id": "HAagY7bQY7SB",
        "colab_type": "code",
        "outputId": "b66179d4-f3d8-4b42-facc-d0329b019004",
        "colab": {
          "base_uri": "https://localhost:8080/",
          "height": 34
        }
      },
      "source": [
        "%pylab inline\n",
        "import numpy as np"
      ],
      "execution_count": 0,
      "outputs": [
        {
          "output_type": "stream",
          "text": [
            "Populating the interactive namespace from numpy and matplotlib\n"
          ],
          "name": "stdout"
        }
      ]
    },
    {
      "cell_type": "markdown",
      "metadata": {
        "id": "2Ey9ScV9caHb",
        "colab_type": "text"
      },
      "source": [
        "__IMPORTANT TIP__: To proper see the mathematical formulas open in Colab with the button in the first cell"
      ]
    },
    {
      "cell_type": "markdown",
      "metadata": {
        "id": "PJadX1H39NnO",
        "colab_type": "text"
      },
      "source": [
        "## Integration\n",
        "From the approximate equation for $\\Delta x=x_{i+1}-x_i$\n",
        "$$f'(x_i)\\approx \\frac{f(x_{i+1})-f(x_i)}{\\Delta x}\\,,$$\n",
        "we have that\n",
        "$$f(x_{i+1})\\approx f(x_i)+f'(x_i)\\Delta x\\,.\\qquad\\qquad (1)$$\n",
        "\n",
        "We can use this equation to find $f(x)$ step by step.\n",
        "\n",
        "We start from the initial conditions $(x_0,f(x_0))$ and some small step $\\Delta x$, e.g, $\\Delta x=0.1$. \n",
        "\n",
        "* The first step for $i=0$, allow us to get $f(x_1)$ with some precision determined by the chosen $\\Delta x$  \n",
        "\\begin{align}\n",
        "f(x_1)\\approx& f(x_0)+f'(x_0)\\Delta x\\\\\n",
        "x_1=&x_0+\\Delta x\\\\\n",
        "\\end{align}\n",
        "* For $i=1$\n",
        "\\begin{align}\n",
        "f(x_2)\\approx& f(x_1)+f'(x_1)\\Delta x\\\\\n",
        "x_2=&x_1+\\Delta x\\\\\n",
        "\\end{align}\n",
        "* ...\n",
        "* After $i$ steps\n",
        "\\begin{align}\n",
        "f(x_{i+1})\\approx& f(x_i)+f'(x_i)\\Delta x\\\\\n",
        "x_{i+1}=&x_i+\\Delta x\\\\\n",
        "\\end{align}\n",
        "\n",
        "This procedure is implemented in the following algorithm"
      ]
    },
    {
      "cell_type": "code",
      "metadata": {
        "id": "XPHDt5gq8oA7",
        "colab_type": "code",
        "colab": {}
      },
      "source": [
        "# Derivative of the function to be found\n",
        "def fp(x):\n",
        "    return -2*x+8\n",
        "# Initial conditions\n",
        "x0=0\n",
        "y0=84\n",
        "# Small enough step\n",
        "Δx=0.01\n",
        "# final point\n",
        "xf=10\n",
        "# Initial lists\n",
        "x=[x0]\n",
        "y=[y0]\n",
        "# Number of steps to reach `xf`\n",
        "imax=int( (xf-x0)/Δx )\n",
        "# Implementation of iterative loop for eq. (1)\n",
        "for i in range(imax):\n",
        "    y.append( y[-1] +  fp(x[-1])*Δx )\n",
        "    x.append( x[-1] + Δx )"
      ],
      "execution_count": 0,
      "outputs": []
    },
    {
      "cell_type": "code",
      "metadata": {
        "id": "r2MXGoQ9jjIC",
        "colab_type": "code",
        "outputId": "eb8b1498-f2ca-4c46-fc6b-29af89c9c3a9",
        "colab": {
          "base_uri": "https://localhost:8080/",
          "height": 301
        }
      },
      "source": [
        "# For testing purposes\n",
        "def f(x):\n",
        "    if isinstance(x,list):\n",
        "        x=np.array(x)\n",
        "    return -(x-4)**2+100\n",
        "# Result\n",
        "plt.plot(x,y,'c-',label='$f(x)$ with $\\Delta x=0.01$')\n",
        "plt.plot(x,f(x),'k:',label='$f(x)=-(x-4)^2+100$')\n",
        "plt.legend(loc='best',fontsize=13)\n",
        "plt.xlabel('$x$',size=15)\n",
        "plt.ylabel('$f(x)$',size=15)"
      ],
      "execution_count": 0,
      "outputs": [
        {
          "output_type": "execute_result",
          "data": {
            "text/plain": [
              "Text(0, 0.5, '$f(x)$')"
            ]
          },
          "metadata": {
            "tags": []
          },
          "execution_count": 100
        },
        {
          "output_type": "display_data",
          "data": {
            "image/png": "[encoded data removed]",
            "text/plain": [
              "<Figure size 432x288 with 1 Axes>"
            ]
          },
          "metadata": {
            "tags": []
          }
        }
      ]
    },
    {
      "cell_type": "markdown",
      "metadata": {
        "id": "bwZ9sC6SD4pz",
        "colab_type": "text"
      },
      "source": [
        "## Numerical analysis\n",
        "We now implement the algorithm as an integrate function, in order to further analize the details of the procedure"
      ]
    },
    {
      "cell_type": "code",
      "metadata": {
        "id": "lEgFSyvBd1rB",
        "colab_type": "code",
        "colab": {}
      },
      "source": [
        "def integrate(fp,x0,y0,xf,Δx=0.1):\n",
        "    '''\n",
        "    Obtain the solution to the differential equation\n",
        "    f'(x)=fp(x) between x0 and xf, with initial conditions:\n",
        "      x0, and y0=f(x0)\n",
        "    where f(x) is the solution, and with step\n",
        "    Δx (Default to 0.1)\n",
        "    '''\n",
        "    x=[x0]\n",
        "    y=[y0]\n",
        "    imax=int( (xf-x0)/Δx )\n",
        "    for i in range(imax):\n",
        "        y.append( y[-1] +  fp(x[-1])*Δx )\n",
        "        x.append( x[-1] + Δx )\n",
        "    return x,y"
      ],
      "execution_count": 0,
      "outputs": []
    },
    {
      "cell_type": "markdown",
      "metadata": {
        "id": "Ec1pjTBiERsM",
        "colab_type": "text"
      },
      "source": [
        "Let us check first the effect of the precision in $\\Delta x$"
      ]
    },
    {
      "cell_type": "code",
      "metadata": {
        "id": "FitIPde6paz2",
        "colab_type": "code",
        "outputId": "0accfc52-12f5-416d-ec9b-e21d32a3ab63",
        "colab": {
          "base_uri": "https://localhost:8080/",
          "height": 301
        }
      },
      "source": [
        "Δx=0.5\n",
        "x,y=integrate(lambda x:-2*x+8, x0=0, y0=84, xf=10, Δx=Δx )\n",
        "plt.plot(x,y,'c-',label='$\\Delta x={}$'.format(Δx))\n",
        "Δx=0.1\n",
        "x,y=integrate(lambda x:-2*x+8, x0=0, y0=84, xf=10, Δx=Δx )\n",
        "plt.plot(x,y,'g-',label='$\\Delta x={}$'.format(Δx))\n",
        "Δx=0.01\n",
        "x,y=integrate(lambda x:-2*x+8, x0=0, y0=84, xf=10, Δx=Δx )\n",
        "plt.plot(x,y,'r-',label='$\\Delta x={}$'.format(Δx))\n",
        "plt.plot(x,f(x),'k:',label='$f(x)=-(x-4)^2+100$')\n",
        "plt.legend(loc='best',fontsize=13)\n",
        "plt.xlabel('$x$',size=15)\n",
        "plt.ylabel('$f(x)$',size=15)"
      ],
      "execution_count": 0,
      "outputs": [
        {
          "output_type": "execute_result",
          "data": {
            "text/plain": [
              "Text(0, 0.5, '$f(x)$')"
            ]
          },
          "metadata": {
            "tags": []
          },
          "execution_count": 97
        },
        {
          "output_type": "display_data",
          "data": {
            "image/png": "[encoded data removed]",
            "text/plain": [
              "<Figure size 432x288 with 1 Axes>"
            ]
          },
          "metadata": {
            "tags": []
          }
        }
      ]
    },
    {
      "cell_type": "markdown",
      "metadata": {
        "id": "h2MruZ2AEZlB",
        "colab_type": "text"
      },
      "source": [
        "Now we check the effect of the initial conditions"
      ]
    },
    {
      "cell_type": "code",
      "metadata": {
        "id": "XCm4WcBZ41c_",
        "colab_type": "code",
        "outputId": "f615da24-37a7-4c18-9808-e4a27c0affb8",
        "colab": {
          "base_uri": "https://localhost:8080/",
          "height": 301
        }
      },
      "source": [
        "Δx=0.01\n",
        "y0=0\n",
        "x0=0\n",
        "x,y=integrate(lambda x:-2*x+8, x0=x0, y0=y0, xf=10, Δx=Δx )\n",
        "plt.plot(x,y,'c-',label='$f({})={}$'.format(x0,y0))\n",
        "y0=60\n",
        "x,y=integrate(lambda x:-2*x+8, x0=x0, y0=y0, xf=10, Δx=Δx )\n",
        "plt.plot(x,y,'g-',label='$f({})={}$'.format(x0,y0))\n",
        "y0=84\n",
        "x,y=integrate(lambda x:-2*x+8, x0=x0, y0=y0, xf=10, Δx=Δx )\n",
        "plt.plot(x,y,'r-',label='$f({})={}$'.format(x0,y0))\n",
        "plt.plot(x,f(x),'k:',label='$f(x)=-x^2+8x+84$')\n",
        "plt.legend(loc='best',fontsize=10)\n",
        "plt.xlabel('$x$',size=15)\n",
        "#plt.ylabel('$f(x)$',size=15)"
      ],
      "execution_count": 0,
      "outputs": [
        {
          "output_type": "execute_result",
          "data": {
            "text/plain": [
              "Text(0.5, 0, '$x$')"
            ]
          },
          "metadata": {
            "tags": []
          },
          "execution_count": 98
        },
        {
          "output_type": "display_data",
          "data": {
            "image/png": "[encoded data removed]",
            "text/plain": [
              "<Figure size 432x288 with 1 Axes>"
            ]
          },
          "metadata": {
            "tags": []
          }
        }
      ]
    },
    {
      "cell_type": "markdown",
      "metadata": {
        "id": "KsVkJzDkLwRj",
        "colab_type": "text"
      },
      "source": [
        "The integration give us the function from which the derivative was obtained until a constant factor to be determined from the initial condition of the function itself:\n",
        "$$f(x)=-x^2+8x+c\\,.$$\n",
        "For the initial condition $(x_0,f(x_0))=(0,84)$, we get $c=84$.\n",
        "\n",
        "We denote the generic iterative procedure to obtain $f(x)$ from $f'(x)$ as the _indefinite integral_ of $f'(x)$\n",
        "We use the notation\n",
        "$$ f(x)=\\int f'(x) \\,\\operatorname{d}x\\,.\\qquad\\qquad (2)$$\n",
        "\n",
        "In this way\n",
        "$$ -x^2+8x+c=\\int (-2x+8) \\,\\operatorname{d}x\\,.$$"
      ]
    },
    {
      "cell_type": "markdown",
      "metadata": {
        "id": "QtL0rWNaHDcc",
        "colab_type": "text"
      },
      "source": [
        "## Analytical integration\n",
        "For some generic function $f(x)$, we can write eq. (2) as the _integral_ of $f(x)$:\n",
        "$$ F(x)=\\int f(x) \\,\\operatorname{d}x\\,.$$\n",
        "such that\n",
        "$$ F'(x)=f(x)\\,.$$ \n",
        "In this way $F(x)$ is called the _antiderivative_ of $f(x)$. Note that if $F(x)$ is the antiderivative of $f(x)$, $G(x)=F(x)+c$,where $c$ is a constant, is also one  antiderivative of $f(x)$.\n",
        "\n",
        "### Example\n",
        "Solve \n",
        "$$ \\int x^n \\,\\operatorname{d}x\\,.$$\n",
        "We need to find $F(x)$ such that \n",
        "$$F'(x)=x^n$$. \n",
        "By using the derivative of a polynomial it is straightforward to check that \n",
        "$$F(x)=\\frac{x^{n+1}}{n+1}+c\\,,\\qquad \\text{$c$ is a constant}$$\n",
        "is the required solution. In fact\n",
        "$$F'(x)=\\frac{n+1}{n+1}x^{n+1-1}=x^n$$\n",
        "Then\n",
        "$$\\int x^n \\,\\operatorname{d}x=\\frac{x^{n+1}}{n+1}+c\\,,\\qquad\\qquad (3)$$\n"
      ]
    },
    {
      "cell_type": "markdown",
      "metadata": {
        "id": "JBXj71r0WTsh",
        "colab_type": "text"
      },
      "source": [
        "## Properties\n",
        "Because the integral is just the inverse of the derivative, a similar set of properties hold:\n",
        "$$\\int a f(x)\\operatorname{d}x=a \\int f(x)\\operatorname{d}x$$\n",
        "$$\\int [f(x)+g(x)]\\operatorname{d}x=\\int f(x)\\operatorname{d}x+\\int g(x)\\operatorname{d}x$$\n",
        "\n",
        "## Example\n",
        "Solve \n",
        "$$\\int(-2x+8)\\operatorname{d}x$$\n",
        "By using eq. (3)\n",
        "\\begin{align}\n",
        "\\int(-2x+8)\\operatorname{d}x\n",
        "=&\\int(-2x)\\operatorname{d}x+\\int 8 \\operatorname{d}x\\\\\n",
        "=&-2\\int x\\operatorname{d}x+8\\int x^0 \\operatorname{d}x\\\\\n",
        "=&-2 \\frac{x^2}{2}+8x+c\\\\\n",
        "=&-x^2+8x+c\\,,\n",
        "\\end{align}"
      ]
    },
    {
      "cell_type": "markdown",
      "metadata": {
        "id": "uF4ilwJsgUnr",
        "colab_type": "text"
      },
      "source": [
        "## Proper integral\n",
        "Combining the results for the function:\n",
        "$$f'(x)=-2x+8\\,.$$\n",
        "we have from eq (2) and (3)\n",
        "$$ f(x)=\\int f'(x) \\,\\operatorname{d}x=-x^2+8x+c$$\n",
        "\n",
        "If we assume that for some $x_0$ we know $f(x_0)$, then \n",
        "$$f(x_0)=-x_0^2+8x_0+c\\,$$\n",
        "allow us to find\n",
        "$$c=f(x_0)-(-x_0^2+8x_0)\\,.$$\n",
        "Therefore\n",
        "\\begin{align}\n",
        " f(x)=&-x^2+8x+f(x_0)-(-x_0^2+8x_0)\\\\\n",
        " f(x)-f(x_0)=&-x^2+8x-(-x_0^2+8x_0)\\\\\n",
        "f(x)-f(x_0)=&-(x^2-x_0^2)+8(x-x_0)\\,.\n",
        "\\end{align}\n",
        "Therefore, we can define the proper integral of $f'(x)$ between $x_0$ and $x$ as\n",
        "$$\\int_{x_0}^x f'(x)\\operatorname{d}x=f(x)\\Big|_{x_0}^x=f(x)-f(x_0)$$\n",
        "so that\n",
        "\\begin{align}\n",
        "\\int_{x_0}^x f'(x)\\operatorname{d}x=&\\int_{x_0}^x (-2x+8) \\operatorname{d}x\\\\\n",
        "\\int_{x_0}^x f'(x)\\operatorname{d}x=&-\\int_{x_0}^x 2x \\operatorname{d}x+\\int_{x_0}^x 8 \\operatorname{d}x \\\\\n",
        "f(x)\\Big|_{x_0}^x=&- 2\\frac{x^2}{2}\\Big|_{x_0}^x+8x \\Big|_{x_0}^x \\\\\n",
        "f(x)-f(x_0)=&- (x^2-x_0^2)+8(x -x_0) \\,.\n",
        "\\end{align}\n",
        "\n"
      ]
    },
    {
      "cell_type": "markdown",
      "metadata": {
        "id": "XJ7iddnCKOyb",
        "colab_type": "text"
      },
      "source": [
        "## Example\n",
        "In the free fall, $\\boldsymbol{F}=-mg \\boldsymbol{i} $. Since $\\boldsymbol{F}=m\\boldsymbol{a}$, and $a=v'(t)$, we have for the movement in the direction $\\boldsymbol{i}$\n",
        "\\begin{align}\n",
        "v'(t)=&-g\\,.\n",
        "\\end{align}\n",
        "By making the proper integration in both sides ($g=\\text{cte}$), and using $v_0=v(t_0)$, we have\n",
        "### For $t_0=0$\n",
        "\\begin{align}\n",
        "\\int_{0}^t v'(t)\\operatorname{d}t=&-\\int_{0}^t g \\operatorname{d}t\\\\\n",
        " v(t)\\Big|_{0}^t=&-g t \\Big|_{0}^t\\\\\n",
        " v(t)-v(0)=&-gt\\\\\n",
        "v(t)-v_0=&-gt\\,,\n",
        "\\end{align}\n",
        "and\n",
        "$$v(t)=v_0-gt$$\n",
        "Since $v(t)=x'(t)$\n",
        "\\begin{align}\n",
        "x'(t)=&v_0-gt\\\\\n",
        "\\int_{0}^t x'(t) dt=&\\int_{0}^t( v_0-gt)dt\\\\\n",
        "x(t)\\Big|_0^t=&v_0\\int_0^t dt-g\\int_0^t t dt \\\\\n",
        "x(t)=&x_0+v_0 t+\\frac{g}{2}t^2\n",
        "\\end{align}\n",
        "\n",
        "### For any other intial point $t_0$\n",
        "$$v(t)=v_0-g(t-t_0)\\qquad (4)$$\n",
        "\\begin{align}\n",
        "\\int_{t_0}^t v'(t)\\operatorname{d}t=&-\\int_{t_0}^t g \\operatorname{d}t\\\\\n",
        " v(t)\\Big|_{t_0}^t=&-g t \\Big|_{t_0}^t\\\\\n",
        " v(t)-v(t_0)=&-g(t-t_0)\\\\\n",
        "v(t)-v_0=&-g(t-t_0)\\,,\n",
        "\\end{align}\n",
        "or\n",
        "$$v(t)=v_0-g(t-t_0)\\qquad (4)$$"
      ]
    },
    {
      "cell_type": "markdown",
      "metadata": {
        "id": "G9WHTNFyyd-l",
        "colab_type": "text"
      },
      "source": [
        "\\begin{align}\n",
        "x'(t)=&v_0-g(t-t_0)\\\\\n",
        "\\int_{t_0}^t x'(t) dt=&\\int_{t_0}^t[ v_0-g(t-t_0)]dt\\\\\n",
        "x(t)-x(0)=&v_0\\int_{t_0}^t dt-g\\int_{t_0}^t(t-t_0) dt\\\\\n",
        "x(t)-x(0)=&v_0\\int_{t_0}^t dt-g\\int_{t_0}^t t dt+gt_0\\int_{t_0}^t dt\\\\\n",
        "x(t)-x(0)=&v_0t\\Big|_{t_0}^t -g\\frac{t^2}{2}\\Big|_{t_0}^t-gt_0 t\\Big|_{t_0}^t\\\\\n",
        "x(t)-x(0)=&v_0(t-t_0) -\\frac{g}{2}(t^2-t_0^2)+gt_0 (t-t_0)\\\\\n",
        "x(t)-x(0)=&v_0(t-t_0) -\\frac{g}{2}( t^2 -t_0^2-2t_0t +2t_0^2)\\\\\n",
        "x(t)-x(0)=&v_0(t-t_0) -\\frac{g}{2}( t^2 +t_0^2-2t_0t)\\\\\n",
        "x(t)-x_0=&v_0(t-t_0) -\\frac{g}{2}( t-t_0)^2\\\\\n",
        "x(t)=&x_0+v_0(t-t_0) -\\frac{g}{2}( t-t_0)^2\\\\\n",
        "\\end{align}\n"
      ]
    }
  ]
}